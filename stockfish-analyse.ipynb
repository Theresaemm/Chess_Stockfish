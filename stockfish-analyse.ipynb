{
 "cells": [
  {
   "cell_type": "code",
   "execution_count": 19,
   "id": "ea0bdf9b",
   "metadata": {},
   "outputs": [
    {
     "name": "stdout",
     "output_type": "stream",
     "text": [
      "Get:1 https://packages.microsoft.com/repos/microsoft-ubuntu-focal-prod focal InRelease [3632 B]\n",
      "Get:2 https://dl.yarnpkg.com/debian stable InRelease [17.1 kB]                 \n",
      "Get:3 https://repo.anaconda.com/pkgs/misc/debrepo/conda stable InRelease [3961 B]\n",
      "Get:4 https://packages.microsoft.com/repos/microsoft-ubuntu-focal-prod focal/main amd64 Packages [352 kB]\n",
      "Get:5 http://archive.ubuntu.com/ubuntu focal InRelease [265 kB]                \n",
      "Get:6 https://packages.microsoft.com/repos/microsoft-ubuntu-focal-prod focal/main all Packages [2938 B]\n",
      "Get:7 http://security.ubuntu.com/ubuntu focal-security InRelease [128 kB]      \n",
      "Get:8 https://dl.yarnpkg.com/debian stable/main all Packages [11.8 kB]         \n",
      "Get:9 https://dl.yarnpkg.com/debian stable/main amd64 Packages [11.8 kB]       \n",
      "Get:10 https://repo.anaconda.com/pkgs/misc/debrepo/conda stable/main amd64 Packages [4557 B]\n",
      "Get:11 http://archive.ubuntu.com/ubuntu focal-updates InRelease [128 kB]       \n",
      "Get:12 http://security.ubuntu.com/ubuntu focal-security/restricted amd64 Packages [4771 kB]\n",
      "Get:14 http://archive.ubuntu.com/ubuntu focal-backports InRelease [128 kB]     \n",
      "Get:15 http://archive.ubuntu.com/ubuntu focal/restricted amd64 Packages [33.4 kB]\n",
      "Get:16 http://archive.ubuntu.com/ubuntu focal/multiverse amd64 Packages [177 kB]\n",
      "Get:17 http://archive.ubuntu.com/ubuntu focal/universe amd64 Packages [11.3 MB]\n",
      "Get:18 http://security.ubuntu.com/ubuntu focal-security/multiverse amd64 Packages [33.1 kB]\n",
      "Get:19 http://security.ubuntu.com/ubuntu focal-security/universe amd64 Packages [1308 kB]\n",
      "Get:20 http://security.ubuntu.com/ubuntu focal-security/main amd64 Packages [4414 kB]\n",
      "Get:13 https://packagecloud.io/github/git-lfs/ubuntu focal InRelease [29.1 kB] \n",
      "Get:21 http://archive.ubuntu.com/ubuntu focal/main amd64 Packages [1275 kB]    \n",
      "Get:22 http://archive.ubuntu.com/ubuntu focal-updates/main amd64 Packages [4903 kB]\n",
      "Get:23 http://archive.ubuntu.com/ubuntu focal-updates/restricted amd64 Packages [4971 kB]\n",
      "Get:24 http://archive.ubuntu.com/ubuntu focal-updates/universe amd64 Packages [1599 kB]\n",
      "Get:25 http://archive.ubuntu.com/ubuntu focal-updates/multiverse amd64 Packages [36.8 kB]\n",
      "Get:26 http://archive.ubuntu.com/ubuntu focal-backports/universe amd64 Packages [28.6 kB]\n",
      "Get:27 http://archive.ubuntu.com/ubuntu focal-backports/main amd64 Packages [55.2 kB]\n",
      "Get:28 https://packagecloud.io/github/git-lfs/ubuntu focal/main amd64 Packages [4064 B]\n",
      "Fetched 36.0 MB in 3s (12.0 MB/s)                           \n",
      "Reading package lists... Done\n",
      "Reading package lists... Done\n",
      "Building dependency tree       \n",
      "Reading state information... Done\n",
      "Suggested packages:\n",
      "  polyglot xboard | scid\n",
      "The following NEW packages will be installed:\n",
      "  stockfish\n",
      "0 upgraded, 1 newly installed, 0 to remove and 57 not upgraded.\n",
      "Need to get 151 kB of archives.\n",
      "After this operation, 309 kB of additional disk space will be used.\n",
      "Get:1 http://archive.ubuntu.com/ubuntu focal/universe amd64 stockfish amd64 11-1build1 [151 kB]\n",
      "Fetched 151 kB in 7s (23.0 kB/s)\n",
      "Selecting previously unselected package stockfish.\n",
      "(Reading database ... 70096 files and directories currently installed.)\n",
      "Preparing to unpack .../stockfish_11-1build1_amd64.deb ...\n",
      "Unpacking stockfish (11-1build1) ...\n",
      "Setting up stockfish (11-1build1) ...\n",
      "Processing triggers for man-db (2.9.1-1) ...\n"
     ]
    }
   ],
   "source": [
    "!sudo apt-get update\n",
    "!sudo apt-get install stockfish"
   ]
  },
  {
   "cell_type": "code",
   "execution_count": 1,
   "id": "c9595898",
   "metadata": {},
   "outputs": [
    {
     "name": "stdout",
     "output_type": "stream",
     "text": [
      "Requirement already satisfied: pip in /usr/local/python/3.12.1/lib/python3.12/site-packages (25.0.1)\n",
      "Collecting pip\n",
      "  Downloading pip-25.1.1-py3-none-any.whl.metadata (3.6 kB)\n",
      "Downloading pip-25.1.1-py3-none-any.whl (1.8 MB)\n",
      "\u001b[2K   \u001b[90m━━━━━━━━━━━━━━━━━━━━━━━━━━━━━━━━━━━━━━━━\u001b[0m \u001b[32m1.8/1.8 MB\u001b[0m \u001b[31m64.4 MB/s\u001b[0m eta \u001b[36m0:00:00\u001b[0m\n",
      "\u001b[?25hInstalling collected packages: pip\n",
      "  Attempting uninstall: pip\n",
      "    Found existing installation: pip 25.0.1\n",
      "    Uninstalling pip-25.0.1:\n",
      "      Successfully uninstalled pip-25.0.1\n",
      "Successfully installed pip-25.1.1\n",
      "Collecting chess\n",
      "  Downloading chess-1.11.2.tar.gz (6.1 MB)\n",
      "\u001b[2K     \u001b[90m━━━━━━━━━━━━━━━━━━━━━━━━━━━━━━━━━━━━━━━━\u001b[0m \u001b[32m6.1/6.1 MB\u001b[0m \u001b[31m75.5 MB/s\u001b[0m eta \u001b[36m0:00:00\u001b[0m\n",
      "\u001b[?25h  Installing build dependencies ... \u001b[?25ldone\n",
      "\u001b[?25h  Getting requirements to build wheel ... \u001b[?25ldone\n",
      "\u001b[?25h  Preparing metadata (pyproject.toml) ... \u001b[?25ldone\n",
      "\u001b[?25hCollecting zstandard\n",
      "  Downloading zstandard-0.23.0-cp312-cp312-manylinux_2_17_x86_64.manylinux2014_x86_64.whl.metadata (3.0 kB)\n",
      "Downloading zstandard-0.23.0-cp312-cp312-manylinux_2_17_x86_64.manylinux2014_x86_64.whl (5.4 MB)\n",
      "\u001b[2K   \u001b[90m━━━━━━━━━━━━━━━━━━━━━━━━━━━━━━━━━━━━━━━━\u001b[0m \u001b[32m5.4/5.4 MB\u001b[0m \u001b[31m76.2 MB/s\u001b[0m eta \u001b[36m0:00:00\u001b[0m\n",
      "\u001b[?25hBuilding wheels for collected packages: chess\n",
      "  Building wheel for chess (pyproject.toml) ... \u001b[?25ldone\n",
      "\u001b[?25h  Created wheel for chess: filename=chess-1.11.2-py3-none-any.whl size=147878 sha256=0ef2634b5f8b654db345fb0c1d8d9c8f38cfb6e49f1e0c32907f1d36812e786d\n",
      "  Stored in directory: /home/codespace/.cache/pip/wheels/83/1f/4e/8f4300f7dd554eb8de70ddfed96e94d3d030ace10c5b53d447\n",
      "Successfully built chess\n",
      "Installing collected packages: zstandard, chess\n",
      "\u001b[2K   \u001b[90m━━━━━━━━━━━━━━━━━━━━━━━━━━━━━━━━━━━━━━━━\u001b[0m \u001b[32m2/2\u001b[0m [chess]32m1/2\u001b[0m [chess]\n",
      "\u001b[1A\u001b[2KSuccessfully installed chess-1.11.2 zstandard-0.23.0\n"
     ]
    }
   ],
   "source": [
    "!pip install --upgrade pip\n",
    "!pip install chess zstandard"
   ]
  },
  {
   "cell_type": "code",
   "execution_count": 29,
   "id": "70314f92",
   "metadata": {},
   "outputs": [],
   "source": [
    "import re\n",
    "\n",
    "def reinstate_move_numbers(moves):\n",
    "    tokens = moves.strip().split()\n",
    "    result = []\n",
    "    for i in range(0, len(tokens), 2):\n",
    "        move_number = i // 2 + 1\n",
    "        if i + 1 < len(tokens):\n",
    "            result.append(f\"{move_number}. {tokens[i]} {tokens[i+1]}\")\n",
    "        else:\n",
    "            result.append(f\"{move_number}. {tokens[i]}\")\n",
    "    return \" \".join(result)\n",
    "\n",
    "def clean_and_reformat_pgn(pgn_text):\n",
    "    # Trenne PGN in Partien anhand von Leerzeilen zwischen Metadaten + Zügen\n",
    "    games = re.split(r'\\n\\s*\\n', pgn_text.strip())\n",
    "\n",
    "    cleaned_games = []\n",
    "\n",
    "    for game in games:\n",
    "        # Trenne Header und Züge\n",
    "        header_lines = []\n",
    "        move_lines = []\n",
    "\n",
    "        for line in game.strip().splitlines():\n",
    "            if line.startswith('['):\n",
    "                header_lines.append(line)\n",
    "            else:\n",
    "                move_lines.append(line)\n",
    "\n",
    "        header = \"\\n\".join(header_lines)\n",
    "        moves_raw = \" \".join(move_lines)\n",
    "\n",
    "        # Entferne Kommentare wie { ... }\n",
    "        moves = re.sub(r\"\\{[^}]*\\}\", \"\", moves_raw)\n",
    "        # Entferne schwarze Zugnummern (z. B. 1...)\n",
    "        moves = re.sub(r\"\\d+\\.\\.\\.\", \"\", moves)\n",
    "        # Entferne alle Zugnummern (z. B. 1.)\n",
    "        moves = re.sub(r\"\\d+\\.\", \"\", moves)\n",
    "        # Reduziere Leerzeichen\n",
    "        moves = re.sub(r\"\\s+\", \" \", moves).strip()\n",
    "        # Setze Zugnummern korrekt neu\n",
    "        moves_numbered = reinstate_move_numbers(moves)\n",
    "\n",
    "        cleaned_game = f\"{header}\\n\\n{moves_numbered}\"\n",
    "        cleaned_games.append(cleaned_game)\n",
    "\n",
    "    return \"\\n\\n\".join(cleaned_games)\n",
    "\n",
    "# Datei laden\n",
    "with open(\"/workspaces/Chess_Stockfish/lichess_sample_10000 (1).pgn\", \"r\", encoding=\"utf-8\") as file:\n",
    "    raw_pgn = file.read()\n",
    "\n",
    "# Bereinigen und umformatieren\n",
    "cleaned_pgn = clean_and_reformat_pgn(raw_pgn)\n",
    "\n",
    "# In Datei schreiben\n",
    "with open(\"/workspaces/Chess_Stockfish/cleaned.pgn\", \"w\", encoding=\"utf-8\") as out_file:\n",
    "    out_file.write(cleaned_pgn)\n",
    "\n"
   ]
  },
  {
   "cell_type": "code",
   "execution_count": 9,
   "id": "4aefb4ce",
   "metadata": {},
   "outputs": [],
   "source": [
    "def reduce_blank_lines_in_pgn(input_path, output_path):\n",
    "    with open(input_path, \"r\", encoding=\"utf-8\") as infile:\n",
    "        lines = infile.readlines()\n",
    "\n",
    "    cleaned_lines = []\n",
    "    current_game = []\n",
    "    blank_line_count = 0\n",
    "\n",
    "    def flush_game(game_lines):\n",
    "        \"\"\"Schreibe ein einzelnes Spiel mit genau einer Leerzeile nach dem Header.\"\"\"\n",
    "        cleaned = []\n",
    "        header_ended = False\n",
    "        blank_line_count = 0\n",
    "        for line in game_lines:\n",
    "            stripped = line.strip()\n",
    "            if stripped.startswith(\"[\"):  # Header-Zeile\n",
    "                cleaned.append(line)\n",
    "                header_ended = False\n",
    "                blank_line_count = 0\n",
    "            elif stripped == \"\":\n",
    "                if not header_ended:\n",
    "                    if blank_line_count == 0:\n",
    "                        cleaned.append(\"\\n\")\n",
    "                    blank_line_count += 1\n",
    "                    header_ended = True\n",
    "            else:\n",
    "                cleaned.append(line)\n",
    "                blank_line_count = 0\n",
    "        cleaned.append(\"\\n\")  # <== Spiel-Ende: genau eine Leerzeile nach dem Spiel\n",
    "        return cleaned\n",
    "\n",
    "    for line in lines:\n",
    "        if line.strip() == \"\" and not current_game:\n",
    "            # Leere Zeile vor einem Spielanfang -> überspringen\n",
    "            continue\n",
    "        current_game.append(line)\n",
    "        if line.strip().startswith(\"[Event\") and len(current_game) > 1:\n",
    "            # Neues Spiel beginnt -> vorheriges Spiel verarbeiten\n",
    "            cleaned_lines.extend(flush_game(current_game[:-1]))\n",
    "            current_game = [line]\n",
    "\n",
    "    if current_game:\n",
    "        cleaned_lines.extend(flush_game(current_game))\n",
    "\n",
    "    with open(output_path, \"w\", encoding=\"utf-8\") as outfile:\n",
    "        outfile.writelines(cleaned_lines)\n",
    "reduce_blank_lines_in_pgn(\"/workspaces/Chess_Stockfish/cleaned.pgn\", \"cleaned_one_line.pgn\")"
   ]
  },
  {
   "cell_type": "code",
   "execution_count": null,
   "id": "550b521d",
   "metadata": {},
   "outputs": [],
   "source": [
    "import chess\n",
    "import chess.pgn\n",
    "\n",
    "def get_elo_bucket(elo):\n",
    "    if elo < 1000:\n",
    "        return \"beginner\"\n",
    "    elif elo < 1400:\n",
    "        return \"intermediate\"\n",
    "    elif elo < 1800:\n",
    "        return \"club_player\"\n",
    "    elif elo < 2200:\n",
    "        return \"advanced\"\n",
    "    else:\n",
    "        return \"expert\"\n",
    "\n",
    "def analyze_game_opening(game, engine, game_nr, depth=15):\n",
    "    board = game.board()\n",
    "    data = []\n",
    "\n",
    "    white_elo = int(game.headers.get(\"WhiteElo\", 0))\n",
    "    black_elo = int(game.headers.get(\"BlackElo\", 0))\n",
    "\n",
    "    for ply, move in enumerate(game.mainline_moves()):\n",
    "        if ply > 9:  # nur die ersten 10 Halbzüge\n",
    "            break\n",
    "\n",
    "        san_move = board.san(move)\n",
    "        info_before = engine.analyse(board, chess.engine.Limit(depth=depth))\n",
    "        score_before = info_before[\"score\"].white().score(mate_score=10000) if not info_before[\"score\"].is_mate() else 10000\n",
    "\n",
    "        # Engine sucht besten Zug\n",
    "        best_move = info_before[\"pv\"][0] if \"pv\" in info_before else None\n",
    "        best_board = board.copy()\n",
    "        if best_move:\n",
    "            best_board.push(best_move)\n",
    "            info_best = engine.analyse(best_board, chess.engine.Limit(depth=depth))\n",
    "            score_best = info_best[\"score\"].white().score(mate_score=10000) if not info_best[\"score\"].is_mate() else 10000\n",
    "        else:\n",
    "            score_best = None\n",
    "\n",
    "        # Spiele tatsächlichen Zug\n",
    "        board.push(move)\n",
    "        info_after = engine.analyse(board, chess.engine.Limit(depth=depth))\n",
    "        score_after = info_after[\"score\"].white().score(mate_score=10000) if not info_after[\"score\"].is_mate() else 10000\n",
    "\n",
    "\n",
    "        if ply == 0 or ply % 2 == 0:\n",
    "            player = \"white\"\n",
    "            elo_level = get_elo_bucket(white_elo)\n",
    "            move_quality = score_after - score_best\n",
    "        else:  \n",
    "            player = \"black\"\n",
    "            elo_level = get_elo_bucket(black_elo)  \n",
    "            move_quality = score_best - score_after \n",
    "\n",
    "        data.append({\n",
    "            \"game_nr\": game_nr,\n",
    "            \"ply\": ply,\n",
    "            \"move\": san_move,\n",
    "            \"move_quality\": move_quality,\n",
    "            \"player\": player,\n",
    "            \"elo_level\": elo_level,\n",
    "            \"phase\": \"opening\"\n",
    "        })\n",
    "\n",
    "    return data\n"
   ]
  },
  {
   "cell_type": "markdown",
   "id": "8b19b433",
   "metadata": {},
   "source": [
    "Funktion to analyse every game "
   ]
  },
  {
   "cell_type": "code",
   "execution_count": 4,
   "id": "08d3f760",
   "metadata": {},
   "outputs": [],
   "source": [
    "import chess\n",
    "import chess.pgn\n",
    "\n",
    "def get_elo_bucket(elo):\n",
    "    if elo < 1000:\n",
    "        return \"beginner\"\n",
    "    elif elo < 1400:\n",
    "        return \"intermediate\"\n",
    "    elif elo < 1800:\n",
    "        return \"club_player\"\n",
    "    elif elo < 2200:\n",
    "        return \"advanced\"\n",
    "    else:\n",
    "        return \"expert\"\n",
    "    \n",
    "def result_to_label(result, player):\n",
    "    if result == \"1-0\":\n",
    "        return \"win\" if player == \"white\" else \"loss\"\n",
    "    elif result == \"0-1\":\n",
    "        return \"win\" if player == \"black\" else \"loss\"\n",
    "    elif result == \"1/2-1/2\":\n",
    "        return \"draw\"\n",
    "    else:\n",
    "        return \"unknown\"    \n",
    "\n",
    "def analyze_game(game, engine, game_nr, depth=15):\n",
    "    board = game.board()\n",
    "    data = []\n",
    "\n",
    "    white_elo = int(game.headers.get(\"WhiteElo\", 0))\n",
    "    black_elo = int(game.headers.get(\"BlackElo\", 0))\n",
    "    result = game.headers.get(\"Result\", \"*\")  #\"1-0\", \"0-1\", \"1/2-1/2\"\n",
    "\n",
    "    for ply, move in enumerate(game.mainline_moves()):\n",
    "        san_move = board.san(move)\n",
    "\n",
    "        # Bewertung vor dem Zug\n",
    "        info_before = engine.analyse(board, chess.engine.Limit(depth=depth))\n",
    "        score_before = info_before[\"score\"].white().score(mate_score=10000) if not info_before[\"score\"].is_mate() else 10000\n",
    "\n",
    "        # Engine-Zug berechnen\n",
    "        best_move = info_before[\"pv\"][0] if \"pv\" in info_before else None\n",
    "        if best_move:\n",
    "            best_board = board.copy()\n",
    "            best_board.push(best_move)\n",
    "            info_best = engine.analyse(best_board, chess.engine.Limit(depth=depth))\n",
    "            score_best = info_best[\"score\"].white().score(mate_score=10000) if not info_best[\"score\"].is_mate() else 10000\n",
    "        else:\n",
    "            score_best = None\n",
    "\n",
    "        # Tatsächlichen Zug spielen\n",
    "        board.push(move)\n",
    "        info_after = engine.analyse(board, chess.engine.Limit(depth=depth))\n",
    "        score_after = info_after[\"score\"].white().score(mate_score=10000) if not info_after[\"score\"].is_mate() else 10000\n",
    "\n",
    "        # Bewertung\n",
    "        if ply % 2 == 0:\n",
    "            player = \"white\"\n",
    "            elo_level = get_elo_bucket(white_elo)\n",
    "            move_quality = score_after - score_best if score_best is not None else None\n",
    "        else:\n",
    "            player = \"black\"\n",
    "            elo_level = get_elo_bucket(black_elo)\n",
    "            move_quality = score_best - score_after if score_best is not None else None\n",
    "\n",
    "        total_plies = len(list(game.mainline_moves()))\n",
    "        if ply < total_plies * 0.3:\n",
    "            phase = 'opening'\n",
    "        elif ply < total_plies * 0.7:\n",
    "            phase = 'middlegame'\n",
    "        else:\n",
    "            phase = 'endgame'\n",
    "\n",
    "        data.append({\n",
    "            \"game_nr\": game_nr,\n",
    "            \"ply\": ply,\n",
    "            \"move\": san_move,\n",
    "            \"move_quality\": move_quality,\n",
    "            \"player\": player,\n",
    "            \"elo_level\": elo_level,\n",
    "            \"phase\": phase,\n",
    "            \"result\": result_to_label(result, player)\n",
    "        })\n",
    "\n",
    "    return data\n"
   ]
  },
  {
   "cell_type": "code",
   "execution_count": 5,
   "id": "2fed7914",
   "metadata": {},
   "outputs": [
    {
     "name": "stdout",
     "output_type": "stream",
     "text": [
      "Spiel 1\n",
      "Spiel 2\n",
      "Spiel 3\n",
      "Spiel 4\n"
     ]
    },
    {
     "ename": "KeyboardInterrupt",
     "evalue": "",
     "output_type": "error",
     "traceback": [
      "\u001b[31m---------------------------------------------------------------------------\u001b[39m",
      "\u001b[31mKeyboardInterrupt\u001b[39m                         Traceback (most recent call last)",
      "\u001b[36mCell\u001b[39m\u001b[36m \u001b[39m\u001b[32mIn[5]\u001b[39m\u001b[32m, line 21\u001b[39m\n\u001b[32m     19\u001b[39m game_count += \u001b[32m1\u001b[39m\n\u001b[32m     20\u001b[39m \u001b[38;5;28mprint\u001b[39m(\u001b[33m\"\u001b[39m\u001b[33mSpiel \u001b[39m\u001b[33m\"\u001b[39m+\u001b[38;5;28mstr\u001b[39m(game_count)+\u001b[33m\"\u001b[39m\u001b[33m\"\u001b[39m)\n\u001b[32m---> \u001b[39m\u001b[32m21\u001b[39m all_data.extend(\u001b[43manalyze_game\u001b[49m\u001b[43m(\u001b[49m\u001b[43mgame\u001b[49m\u001b[43m,\u001b[49m\u001b[43m \u001b[49m\u001b[43mengine\u001b[49m\u001b[43m,\u001b[49m\u001b[43m \u001b[49m\u001b[43mgame_nr\u001b[49m\u001b[43m=\u001b[49m\u001b[43mgame_count\u001b[49m\u001b[43m)\u001b[49m)\n",
      "\u001b[36mCell\u001b[39m\u001b[36m \u001b[39m\u001b[32mIn[4]\u001b[39m\u001b[32m, line 38\u001b[39m, in \u001b[36manalyze_game\u001b[39m\u001b[34m(game, engine, game_nr, depth)\u001b[39m\n\u001b[32m     35\u001b[39m san_move = board.san(move)\n\u001b[32m     37\u001b[39m \u001b[38;5;66;03m# Bewertung vor dem Zug\u001b[39;00m\n\u001b[32m---> \u001b[39m\u001b[32m38\u001b[39m info_before = \u001b[43mengine\u001b[49m\u001b[43m.\u001b[49m\u001b[43manalyse\u001b[49m\u001b[43m(\u001b[49m\u001b[43mboard\u001b[49m\u001b[43m,\u001b[49m\u001b[43m \u001b[49m\u001b[43mchess\u001b[49m\u001b[43m.\u001b[49m\u001b[43mengine\u001b[49m\u001b[43m.\u001b[49m\u001b[43mLimit\u001b[49m\u001b[43m(\u001b[49m\u001b[43mdepth\u001b[49m\u001b[43m=\u001b[49m\u001b[43mdepth\u001b[49m\u001b[43m)\u001b[49m\u001b[43m)\u001b[49m\n\u001b[32m     39\u001b[39m score_before = info_before[\u001b[33m\"\u001b[39m\u001b[33mscore\u001b[39m\u001b[33m\"\u001b[39m].white().score(mate_score=\u001b[32m10000\u001b[39m) \u001b[38;5;28;01mif\u001b[39;00m \u001b[38;5;129;01mnot\u001b[39;00m info_before[\u001b[33m\"\u001b[39m\u001b[33mscore\u001b[39m\u001b[33m\"\u001b[39m].is_mate() \u001b[38;5;28;01melse\u001b[39;00m \u001b[32m10000\u001b[39m\n\u001b[32m     41\u001b[39m \u001b[38;5;66;03m# Engine-Zug berechnen\u001b[39;00m\n",
      "\u001b[36mFile \u001b[39m\u001b[32m~/.python/current/lib/python3.12/site-packages/chess/engine.py:2994\u001b[39m, in \u001b[36mSimpleEngine.analyse\u001b[39m\u001b[34m(self, board, limit, multipv, game, info, root_moves, options)\u001b[39m\n\u001b[32m   2990\u001b[39m     coro = asyncio.wait_for(\n\u001b[32m   2991\u001b[39m         \u001b[38;5;28mself\u001b[39m.protocol.analyse(board, limit, multipv=multipv, game=game, info=info, root_moves=root_moves, options=options),\n\u001b[32m   2992\u001b[39m         \u001b[38;5;28mself\u001b[39m._timeout_for(limit))\n\u001b[32m   2993\u001b[39m     future = asyncio.run_coroutine_threadsafe(coro, \u001b[38;5;28mself\u001b[39m.protocol.loop)\n\u001b[32m-> \u001b[39m\u001b[32m2994\u001b[39m \u001b[38;5;28;01mreturn\u001b[39;00m \u001b[43mfuture\u001b[49m\u001b[43m.\u001b[49m\u001b[43mresult\u001b[49m\u001b[43m(\u001b[49m\u001b[43m)\u001b[49m\n",
      "\u001b[36mFile \u001b[39m\u001b[32m~/.python/current/lib/python3.12/concurrent/futures/_base.py:451\u001b[39m, in \u001b[36mFuture.result\u001b[39m\u001b[34m(self, timeout)\u001b[39m\n\u001b[32m    448\u001b[39m \u001b[38;5;28;01melif\u001b[39;00m \u001b[38;5;28mself\u001b[39m._state == FINISHED:\n\u001b[32m    449\u001b[39m     \u001b[38;5;28;01mreturn\u001b[39;00m \u001b[38;5;28mself\u001b[39m.__get_result()\n\u001b[32m--> \u001b[39m\u001b[32m451\u001b[39m \u001b[38;5;28;43mself\u001b[39;49m\u001b[43m.\u001b[49m\u001b[43m_condition\u001b[49m\u001b[43m.\u001b[49m\u001b[43mwait\u001b[49m\u001b[43m(\u001b[49m\u001b[43mtimeout\u001b[49m\u001b[43m)\u001b[49m\n\u001b[32m    453\u001b[39m \u001b[38;5;28;01mif\u001b[39;00m \u001b[38;5;28mself\u001b[39m._state \u001b[38;5;129;01min\u001b[39;00m [CANCELLED, CANCELLED_AND_NOTIFIED]:\n\u001b[32m    454\u001b[39m     \u001b[38;5;28;01mraise\u001b[39;00m CancelledError()\n",
      "\u001b[36mFile \u001b[39m\u001b[32m~/.python/current/lib/python3.12/threading.py:355\u001b[39m, in \u001b[36mCondition.wait\u001b[39m\u001b[34m(self, timeout)\u001b[39m\n\u001b[32m    353\u001b[39m \u001b[38;5;28;01mtry\u001b[39;00m:    \u001b[38;5;66;03m# restore state no matter what (e.g., KeyboardInterrupt)\u001b[39;00m\n\u001b[32m    354\u001b[39m     \u001b[38;5;28;01mif\u001b[39;00m timeout \u001b[38;5;129;01mis\u001b[39;00m \u001b[38;5;28;01mNone\u001b[39;00m:\n\u001b[32m--> \u001b[39m\u001b[32m355\u001b[39m         \u001b[43mwaiter\u001b[49m\u001b[43m.\u001b[49m\u001b[43macquire\u001b[49m\u001b[43m(\u001b[49m\u001b[43m)\u001b[49m\n\u001b[32m    356\u001b[39m         gotit = \u001b[38;5;28;01mTrue\u001b[39;00m\n\u001b[32m    357\u001b[39m     \u001b[38;5;28;01melse\u001b[39;00m:\n",
      "\u001b[31mKeyboardInterrupt\u001b[39m: "
     ]
    }
   ],
   "source": [
    "import chess\n",
    "import chess.engine\n",
    "import chess.pgn\n",
    "from io import StringIO\n",
    "\n",
    "PGN_FILE = \"/workspaces/Chess_Stockfish/cleaned_one_line.pgn\"\n",
    "engine = chess.engine.SimpleEngine.popen_uci(\"/usr/games/stockfish\")\n",
    "\n",
    "MAX_GAMES = 10000\n",
    "game_count = 0\n",
    "all_data = []\n",
    "\n",
    "\n",
    "with open(PGN_FILE) as pgn:\n",
    "    while game_count < MAX_GAMES:\n",
    "        game = chess.pgn.read_game(pgn)\n",
    "        if game is None:\n",
    "            break\n",
    "        game_count += 1\n",
    "        print(\"Spiel \"+str(game_count)+\"\")\n",
    "        all_data.extend(analyze_game(game, engine, game_nr=game_count))\n",
    "\n"
   ]
  },
  {
   "cell_type": "code",
   "execution_count": 20,
   "id": "0fc11776",
   "metadata": {},
   "outputs": [
    {
     "name": "stdout",
     "output_type": "stream",
     "text": [
      "{'game_nr': 1, 'ply': 40, 'move': 'Bb2', 'move_quality': -336, 'player': 'white', 'elo_level': 'club_player', 'phase': 'endgame', 'result': 'win'}\n",
      "{'game_nr': 1, 'ply': 41, 'move': 'b5', 'move_quality': -243, 'player': 'black', 'elo_level': 'club_player', 'phase': 'endgame', 'result': 'loss'}\n",
      "{'game_nr': 1, 'ply': 42, 'move': 'Bc3', 'move_quality': -22, 'player': 'white', 'elo_level': 'club_player', 'phase': 'endgame', 'result': 'win'}\n",
      "{'game_nr': 1, 'ply': 43, 'move': 'a6', 'move_quality': 8, 'player': 'black', 'elo_level': 'club_player', 'phase': 'endgame', 'result': 'loss'}\n",
      "{'game_nr': 1, 'ply': 44, 'move': 'h3', 'move_quality': -21, 'player': 'white', 'elo_level': 'club_player', 'phase': 'endgame', 'result': 'win'}\n",
      "{'game_nr': 1, 'ply': 45, 'move': 'Nd5', 'move_quality': 14, 'player': 'black', 'elo_level': 'club_player', 'phase': 'endgame', 'result': 'loss'}\n",
      "{'game_nr': 1, 'ply': 46, 'move': 'Rfe1', 'move_quality': -43, 'player': 'white', 'elo_level': 'club_player', 'phase': 'endgame', 'result': 'win'}\n",
      "{'game_nr': 1, 'ply': 47, 'move': 'Qh4', 'move_quality': -93, 'player': 'black', 'elo_level': 'club_player', 'phase': 'endgame', 'result': 'loss'}\n",
      "{'game_nr': 1, 'ply': 48, 'move': 'Nf3', 'move_quality': -7, 'player': 'white', 'elo_level': 'club_player', 'phase': 'endgame', 'result': 'win'}\n",
      "{'game_nr': 1, 'ply': 49, 'move': 'Qg3', 'move_quality': -92, 'player': 'black', 'elo_level': 'club_player', 'phase': 'endgame', 'result': 'loss'}\n",
      "{'game_nr': 1, 'ply': 50, 'move': 'Qf2', 'move_quality': -481, 'player': 'white', 'elo_level': 'club_player', 'phase': 'endgame', 'result': 'win'}\n",
      "{'game_nr': 1, 'ply': 51, 'move': 'Qxf2+', 'move_quality': -15, 'player': 'black', 'elo_level': 'club_player', 'phase': 'endgame', 'result': 'loss'}\n",
      "{'game_nr': 1, 'ply': 52, 'move': 'Kxf2', 'move_quality': 7, 'player': 'white', 'elo_level': 'club_player', 'phase': 'endgame', 'result': 'win'}\n",
      "{'game_nr': 1, 'ply': 53, 'move': 'Nxc3', 'move_quality': 3, 'player': 'black', 'elo_level': 'club_player', 'phase': 'endgame', 'result': 'loss'}\n",
      "{'game_nr': 1, 'ply': 54, 'move': 'Rac1', 'move_quality': -81, 'player': 'white', 'elo_level': 'club_player', 'phase': 'endgame', 'result': 'win'}\n",
      "{'game_nr': 1, 'ply': 55, 'move': 'Ne4+', 'move_quality': -6, 'player': 'black', 'elo_level': 'club_player', 'phase': 'endgame', 'result': 'loss'}\n",
      "{'game_nr': 2, 'ply': 24, 'move': 'Qg4', 'move_quality': -126, 'player': 'white', 'elo_level': 'advanced', 'phase': 'endgame', 'result': 'loss'}\n",
      "{'game_nr': 2, 'ply': 25, 'move': 'Bxb2', 'move_quality': 5, 'player': 'black', 'elo_level': 'club_player', 'phase': 'endgame', 'result': 'win'}\n",
      "{'game_nr': 2, 'ply': 26, 'move': 'Rg1', 'move_quality': -41, 'player': 'white', 'elo_level': 'advanced', 'phase': 'endgame', 'result': 'loss'}\n",
      "{'game_nr': 2, 'ply': 27, 'move': 'Bxa1', 'move_quality': -421, 'player': 'black', 'elo_level': 'club_player', 'phase': 'endgame', 'result': 'win'}\n",
      "{'game_nr': 2, 'ply': 28, 'move': 'Qxg8+', 'move_quality': 0, 'player': 'white', 'elo_level': 'advanced', 'phase': 'endgame', 'result': 'loss'}\n",
      "{'game_nr': 2, 'ply': 29, 'move': 'Rxg8', 'move_quality': -8, 'player': 'black', 'elo_level': 'club_player', 'phase': 'endgame', 'result': 'win'}\n",
      "{'game_nr': 2, 'ply': 30, 'move': 'Rxg8+', 'move_quality': -6, 'player': 'white', 'elo_level': 'advanced', 'phase': 'endgame', 'result': 'loss'}\n",
      "{'game_nr': 2, 'ply': 31, 'move': 'Ke7', 'move_quality': -11, 'player': 'black', 'elo_level': 'club_player', 'phase': 'endgame', 'result': 'win'}\n",
      "{'game_nr': 2, 'ply': 32, 'move': 'Rg7', 'move_quality': -1523, 'player': 'white', 'elo_level': 'advanced', 'phase': 'endgame', 'result': 'loss'}\n",
      "{'game_nr': 2, 'ply': 33, 'move': 'Bxg7', 'move_quality': 17, 'player': 'black', 'elo_level': 'club_player', 'phase': 'endgame', 'result': 'win'}\n",
      "{'game_nr': 3, 'ply': 82, 'move': 'Ree5', 'move_quality': -127, 'player': 'white', 'elo_level': 'club_player', 'phase': 'endgame', 'result': 'loss'}\n",
      "{'game_nr': 3, 'ply': 83, 'move': 'Kf7', 'move_quality': -94, 'player': 'black', 'elo_level': 'club_player', 'phase': 'endgame', 'result': 'win'}\n",
      "{'game_nr': 3, 'ply': 84, 'move': 'Rb4', 'move_quality': -103, 'player': 'white', 'elo_level': 'club_player', 'phase': 'endgame', 'result': 'loss'}\n",
      "{'game_nr': 3, 'ply': 85, 'move': 'Rd8', 'move_quality': -23, 'player': 'black', 'elo_level': 'club_player', 'phase': 'endgame', 'result': 'win'}\n",
      "{'game_nr': 3, 'ply': 86, 'move': 'Rxc4', 'move_quality': 30, 'player': 'white', 'elo_level': 'club_player', 'phase': 'endgame', 'result': 'loss'}\n",
      "{'game_nr': 3, 'ply': 87, 'move': 'Rb8', 'move_quality': -45, 'player': 'black', 'elo_level': 'club_player', 'phase': 'endgame', 'result': 'win'}\n",
      "{'game_nr': 3, 'ply': 88, 'move': 'Rb4', 'move_quality': 29, 'player': 'white', 'elo_level': 'club_player', 'phase': 'endgame', 'result': 'loss'}\n",
      "{'game_nr': 3, 'ply': 89, 'move': 'Rc8', 'move_quality': -24, 'player': 'black', 'elo_level': 'club_player', 'phase': 'endgame', 'result': 'win'}\n",
      "{'game_nr': 3, 'ply': 90, 'move': 'Rxa4', 'move_quality': -16, 'player': 'white', 'elo_level': 'club_player', 'phase': 'endgame', 'result': 'loss'}\n",
      "{'game_nr': 3, 'ply': 91, 'move': 'Rcc7', 'move_quality': -29, 'player': 'black', 'elo_level': 'club_player', 'phase': 'endgame', 'result': 'win'}\n",
      "{'game_nr': 3, 'ply': 92, 'move': 'Rb4', 'move_quality': 71, 'player': 'white', 'elo_level': 'club_player', 'phase': 'endgame', 'result': 'loss'}\n",
      "{'game_nr': 3, 'ply': 93, 'move': 'Kf6', 'move_quality': -50, 'player': 'black', 'elo_level': 'club_player', 'phase': 'endgame', 'result': 'win'}\n",
      "{'game_nr': 3, 'ply': 94, 'move': 'a4', 'move_quality': -18, 'player': 'white', 'elo_level': 'club_player', 'phase': 'endgame', 'result': 'loss'}\n",
      "{'game_nr': 3, 'ply': 95, 'move': 'Ra7', 'move_quality': -91, 'player': 'black', 'elo_level': 'club_player', 'phase': 'endgame', 'result': 'win'}\n",
      "{'game_nr': 3, 'ply': 96, 'move': 'a5', 'move_quality': -7, 'player': 'white', 'elo_level': 'club_player', 'phase': 'endgame', 'result': 'loss'}\n",
      "{'game_nr': 3, 'ply': 97, 'move': 'Ra6', 'move_quality': 65, 'player': 'black', 'elo_level': 'club_player', 'phase': 'endgame', 'result': 'win'}\n",
      "{'game_nr': 3, 'ply': 98, 'move': 'b3', 'move_quality': -66, 'player': 'white', 'elo_level': 'club_player', 'phase': 'endgame', 'result': 'loss'}\n",
      "{'game_nr': 3, 'ply': 99, 'move': 'Rc6', 'move_quality': 17, 'player': 'black', 'elo_level': 'club_player', 'phase': 'endgame', 'result': 'win'}\n",
      "{'game_nr': 3, 'ply': 100, 'move': 'c4', 'move_quality': 55, 'player': 'white', 'elo_level': 'club_player', 'phase': 'endgame', 'result': 'loss'}\n",
      "{'game_nr': 3, 'ply': 101, 'move': 'Ra6', 'move_quality': -83, 'player': 'black', 'elo_level': 'club_player', 'phase': 'endgame', 'result': 'win'}\n",
      "{'game_nr': 3, 'ply': 102, 'move': 'Ra4', 'move_quality': -230, 'player': 'white', 'elo_level': 'club_player', 'phase': 'endgame', 'result': 'loss'}\n",
      "{'game_nr': 3, 'ply': 103, 'move': 'Rd7', 'move_quality': -81, 'player': 'black', 'elo_level': 'club_player', 'phase': 'endgame', 'result': 'win'}\n",
      "{'game_nr': 3, 'ply': 104, 'move': 'd5', 'move_quality': -3, 'player': 'white', 'elo_level': 'club_player', 'phase': 'endgame', 'result': 'loss'}\n",
      "{'game_nr': 3, 'ply': 105, 'move': 'exd5', 'move_quality': 2, 'player': 'black', 'elo_level': 'club_player', 'phase': 'endgame', 'result': 'win'}\n",
      "{'game_nr': 3, 'ply': 106, 'move': 'Rxd5', 'move_quality': 11, 'player': 'white', 'elo_level': 'club_player', 'phase': 'endgame', 'result': 'loss'}\n",
      "{'game_nr': 3, 'ply': 107, 'move': 'Rb7', 'move_quality': -26, 'player': 'black', 'elo_level': 'club_player', 'phase': 'endgame', 'result': 'win'}\n",
      "{'game_nr': 3, 'ply': 108, 'move': 'b4', 'move_quality': 13, 'player': 'white', 'elo_level': 'club_player', 'phase': 'endgame', 'result': 'loss'}\n",
      "{'game_nr': 3, 'ply': 109, 'move': 'Re7', 'move_quality': -84, 'player': 'black', 'elo_level': 'club_player', 'phase': 'endgame', 'result': 'win'}\n",
      "{'game_nr': 3, 'ply': 110, 'move': 'Rd4', 'move_quality': 8928, 'player': 'white', 'elo_level': 'club_player', 'phase': 'endgame', 'result': 'loss'}\n",
      "{'game_nr': 3, 'ply': 111, 'move': 'Rae6', 'move_quality': 0, 'player': 'black', 'elo_level': 'club_player', 'phase': 'endgame', 'result': 'win'}\n",
      "{'game_nr': 3, 'ply': 112, 'move': 'b5', 'move_quality': 0, 'player': 'white', 'elo_level': 'club_player', 'phase': 'endgame', 'result': 'loss'}\n",
      "{'game_nr': 3, 'ply': 113, 'move': 'Re4+', 'move_quality': 0, 'player': 'black', 'elo_level': 'club_player', 'phase': 'endgame', 'result': 'win'}\n",
      "{'game_nr': 3, 'ply': 114, 'move': 'Rxe4', 'move_quality': 0, 'player': 'white', 'elo_level': 'club_player', 'phase': 'endgame', 'result': 'loss'}\n",
      "{'game_nr': 3, 'ply': 115, 'move': 'Rxe4#', 'move_quality': 0, 'player': 'black', 'elo_level': 'club_player', 'phase': 'endgame', 'result': 'win'}\n"
     ]
    }
   ],
   "source": [
    "for entry in all_data:  # Zeigt Einträge\n",
    "    if entry['phase']== 'endgame':\n",
    "        print(entry)"
   ]
  },
  {
   "cell_type": "markdown",
   "id": "c570a477",
   "metadata": {},
   "source": [
    "•Opening Theory Compliance – Do players follow book openings correctly, or do they deviate early?•Strategic Conformance – How well do players adhere to established positional and tactical guidelines?\n",
    "•Endgame Fundamentals – Are winning endgame techniques executed correctly, or do deviations impact results?•Skill-Based Differences – Do higher-rated players exhibit greater conformance, and how does deviation affect performance"
   ]
  },
  {
   "cell_type": "markdown",
   "id": "f36a0175",
   "metadata": {},
   "source": [
    "Whole game "
   ]
  },
  {
   "cell_type": "code",
   "execution_count": 18,
   "id": "87895801",
   "metadata": {},
   "outputs": [
    {
     "name": "stdout",
     "output_type": "stream",
     "text": [
      "Average move_quality whole game all elo levels: -12.553398058252426\n"
     ]
    }
   ],
   "source": [
    "move_qualities = [entry[\"move_quality\"] for entry in all_data if entry[\"move_quality\"] is not None]\n",
    "avg_move_quality = sum(move_qualities) / len(move_qualities)\n",
    "print(f\"Average move_quality whole game all elo levels: {avg_move_quality}\")"
   ]
  },
  {
   "cell_type": "code",
   "execution_count": 19,
   "id": "a14070b6",
   "metadata": {},
   "outputs": [
    {
     "name": "stdout",
     "output_type": "stream",
     "text": [
      "Average move_quality white whole game all elo levels: 20.553398058252426\n"
     ]
    }
   ],
   "source": [
    "move_qualities = [entry[\"move_quality\"] for entry in all_data if entry[\"move_quality\"] is not None and entry['player'] == 'white']\n",
    "avg_move_quality = sum(move_qualities) / len(move_qualities)\n",
    "print(f\"Average move_quality white whole game all elo levels: {avg_move_quality}\")"
   ]
  },
  {
   "cell_type": "code",
   "execution_count": 16,
   "id": "12a4a1a2",
   "metadata": {},
   "outputs": [
    {
     "name": "stdout",
     "output_type": "stream",
     "text": [
      "Number of games won all elo levels: 3\n",
      "Percentage of games won all elo levels: 0.5\n"
     ]
    }
   ],
   "source": [
    "number_games_win = len([entry[\"game_nr\"] for entry in all_data if entry['result'] == 'win' and entry[\"ply\"]<2])\n",
    "print(f\"Number of games won all elo levels: {number_games_win}\")\n",
    "percentage_games_won = number_games_win/len([entry[\"game_nr\"] for entry in all_data if entry[\"ply\"]<2])\n",
    "print(f\"Percentage of games won all elo levels: {percentage_games_won}\")"
   ]
  },
  {
   "cell_type": "code",
   "execution_count": 13,
   "id": "e1e9cef6",
   "metadata": {},
   "outputs": [
    {
     "ename": "ZeroDivisionError",
     "evalue": "division by zero",
     "output_type": "error",
     "traceback": [
      "\u001b[31m---------------------------------------------------------------------------\u001b[39m",
      "\u001b[31mZeroDivisionError\u001b[39m                         Traceback (most recent call last)",
      "\u001b[36mCell\u001b[39m\u001b[36m \u001b[39m\u001b[32mIn[13]\u001b[39m\u001b[32m, line 3\u001b[39m\n\u001b[32m      1\u001b[39m \u001b[38;5;66;03m#Beginner\u001b[39;00m\n\u001b[32m      2\u001b[39m move_qualities_beginner = [entry[\u001b[33m\"\u001b[39m\u001b[33mmove_quality\u001b[39m\u001b[33m\"\u001b[39m] \u001b[38;5;28;01mfor\u001b[39;00m entry \u001b[38;5;129;01min\u001b[39;00m all_data \u001b[38;5;28;01mif\u001b[39;00m entry[\u001b[33m\"\u001b[39m\u001b[33mmove_quality\u001b[39m\u001b[33m\"\u001b[39m] \u001b[38;5;129;01mis\u001b[39;00m \u001b[38;5;129;01mnot\u001b[39;00m \u001b[38;5;28;01mNone\u001b[39;00m \u001b[38;5;129;01mand\u001b[39;00m entry[\u001b[33m'\u001b[39m\u001b[33melo_level\u001b[39m\u001b[33m'\u001b[39m] == \u001b[33m'\u001b[39m\u001b[33mbeginner\u001b[39m\u001b[33m'\u001b[39m]\n\u001b[32m----> \u001b[39m\u001b[32m3\u001b[39m avg_move_quality_beginner = \u001b[38;5;28;43msum\u001b[39;49m\u001b[43m(\u001b[49m\u001b[43mmove_qualities_beginner\u001b[49m\u001b[43m)\u001b[49m\u001b[43m \u001b[49m\u001b[43m/\u001b[49m\u001b[43m \u001b[49m\u001b[38;5;28;43mlen\u001b[39;49m\u001b[43m(\u001b[49m\u001b[43mmove_qualities_beginner\u001b[49m\u001b[43m)\u001b[49m\n\u001b[32m      4\u001b[39m \u001b[38;5;28mprint\u001b[39m(\u001b[33mf\u001b[39m\u001b[33m\"\u001b[39m\u001b[33mAverage move_quality whole game beginner: \u001b[39m\u001b[38;5;132;01m{\u001b[39;00mavg_move_quality_beginner\u001b[38;5;132;01m}\u001b[39;00m\u001b[33m\"\u001b[39m)\n\u001b[32m      6\u001b[39m \u001b[38;5;66;03m# Intermediate\u001b[39;00m\n",
      "\u001b[31mZeroDivisionError\u001b[39m: division by zero"
     ]
    }
   ],
   "source": [
    "#Beginner\n",
    "move_qualities_beginner = [entry[\"move_quality\"] for entry in all_data if entry[\"move_quality\"] is not None and entry['elo_level'] == 'beginner']\n",
    "avg_move_quality_beginner = sum(move_qualities_beginner) / len(move_qualities_beginner)\n",
    "print(f\"Average move_quality whole game beginner: {avg_move_quality_beginner}\")\n",
    "\n",
    "# Intermediate\n",
    "move_qualities_intermediate = [entry[\"move_quality\"] for entry in all_data if entry[\"move_quality\"] is not None and entry['elo_level'] == 'intermediate']\n",
    "avg_move_quality_intermediate = sum(move_qualities_intermediate) / len(move_qualities_intermediate)\n",
    "print(f\"Average move_quality whole game intermediate: {avg_move_quality_intermediate}\")\n",
    "\n",
    "# Club Player\n",
    "move_qualities_club = [entry[\"move_quality\"] for entry in all_data if entry[\"move_quality\"] is not None and entry['elo_level'] == 'club_player']\n",
    "avg_move_quality_club = sum(move_qualities_club) / len(move_qualities_club)\n",
    "print(f\"Average move_quality whole game club_player: {avg_move_quality_club}\")\n",
    "\n",
    "# Advanced\n",
    "move_qualities_advanced = [entry[\"move_quality\"] for entry in all_data if entry[\"move_quality\"] is not None and entry['elo_level'] == 'advanced']\n",
    "avg_move_quality_advanced = sum(move_qualities_advanced) / len(move_qualities_advanced)\n",
    "print(f\"Average move_quality whole game advanced: {avg_move_quality_advanced}\")\n",
    "\n",
    "# Expert\n",
    "move_qualities_expert = [entry[\"move_quality\"] for entry in all_data if entry[\"move_quality\"] is not None and entry['elo_level'] == 'expert']\n",
    "avg_move_quality_expert = sum(move_qualities_expert) / len(move_qualities_expert)\n",
    "print(f\"Average move_quality whole game expert: {avg_move_quality_expert}\")\n"
   ]
  },
  {
   "cell_type": "markdown",
   "id": "9256eb24",
   "metadata": {},
   "source": [
    "Phase Opening"
   ]
  },
  {
   "cell_type": "code",
   "execution_count": null,
   "id": "79d4d55e",
   "metadata": {},
   "outputs": [
    {
     "name": "stdout",
     "output_type": "stream",
     "text": [
      "Average move_quality opening all elo levels: -32.30379746835443\n"
     ]
    }
   ],
   "source": [
    "move_qualities_opening = [entry[\"move_quality\"] for entry in all_data if entry[\"move_quality\"] is not None and entry[\"phase\"] == 'opening']\n",
    "avg_move_quality_opening = sum(move_qualities_opening) / len(move_qualities_opening)\n",
    "print(f\"Average move_quality opening all elo levels: {avg_move_quality_opening}\")"
   ]
  },
  {
   "cell_type": "code",
   "execution_count": 42,
   "id": "7f246e5b",
   "metadata": {},
   "outputs": [
    {
     "ename": "ZeroDivisionError",
     "evalue": "division by zero",
     "output_type": "error",
     "traceback": [
      "\u001b[31m---------------------------------------------------------------------------\u001b[39m",
      "\u001b[31mZeroDivisionError\u001b[39m                         Traceback (most recent call last)",
      "\u001b[36mCell\u001b[39m\u001b[36m \u001b[39m\u001b[32mIn[42]\u001b[39m\u001b[32m, line 3\u001b[39m\n\u001b[32m      1\u001b[39m \u001b[38;5;66;03m#Beginner\u001b[39;00m\n\u001b[32m      2\u001b[39m move_qualities_beginner_opening = [entry[\u001b[33m\"\u001b[39m\u001b[33mmove_quality\u001b[39m\u001b[33m\"\u001b[39m] \u001b[38;5;28;01mfor\u001b[39;00m entry \u001b[38;5;129;01min\u001b[39;00m all_data \u001b[38;5;28;01mif\u001b[39;00m entry[\u001b[33m\"\u001b[39m\u001b[33mmove_quality\u001b[39m\u001b[33m\"\u001b[39m] \u001b[38;5;129;01mis\u001b[39;00m \u001b[38;5;129;01mnot\u001b[39;00m \u001b[38;5;28;01mNone\u001b[39;00m \u001b[38;5;129;01mand\u001b[39;00m entry[\u001b[33m'\u001b[39m\u001b[33melo_level\u001b[39m\u001b[33m'\u001b[39m] == \u001b[33m'\u001b[39m\u001b[33mbeginner\u001b[39m\u001b[33m'\u001b[39m \u001b[38;5;129;01mand\u001b[39;00m entry[\u001b[33m\"\u001b[39m\u001b[33mphase\u001b[39m\u001b[33m\"\u001b[39m] == \u001b[33m'\u001b[39m\u001b[33mopening\u001b[39m\u001b[33m'\u001b[39m]\n\u001b[32m----> \u001b[39m\u001b[32m3\u001b[39m avg_move_quality_beginner_opening = \u001b[38;5;28;43msum\u001b[39;49m\u001b[43m(\u001b[49m\u001b[43mmove_qualities_beginner_opening\u001b[49m\u001b[43m)\u001b[49m\u001b[43m \u001b[49m\u001b[43m/\u001b[49m\u001b[43m \u001b[49m\u001b[38;5;28;43mlen\u001b[39;49m\u001b[43m(\u001b[49m\u001b[43mmove_qualities_beginner_opening\u001b[49m\u001b[43m)\u001b[49m\n\u001b[32m      4\u001b[39m \u001b[38;5;28mprint\u001b[39m(\u001b[33mf\u001b[39m\u001b[33m\"\u001b[39m\u001b[33mAverage move_quality opening beginner: \u001b[39m\u001b[38;5;132;01m{\u001b[39;00mavg_move_quality_beginner_opening\u001b[38;5;132;01m}\u001b[39;00m\u001b[33m\"\u001b[39m)\n\u001b[32m      6\u001b[39m \u001b[38;5;66;03m# Intermediate\u001b[39;00m\n",
      "\u001b[31mZeroDivisionError\u001b[39m: division by zero"
     ]
    }
   ],
   "source": [
    "#Beginner\n",
    "move_qualities_beginner_opening = [entry[\"move_quality\"] for entry in all_data if entry[\"move_quality\"] is not None and entry['elo_level'] == 'beginner' and entry[\"phase\"] == 'opening']\n",
    "avg_move_quality_beginner_opening = sum(move_qualities_beginner_opening) / len(move_qualities_beginner_opening)\n",
    "print(f\"Average move_quality opening beginner: {avg_move_quality_beginner_opening}\")\n",
    "\n",
    "# Intermediate\n",
    "move_qualities_intermediate_opening = [entry[\"move_quality\"] for entry in all_data if entry[\"move_quality\"] is not None and entry['elo_level'] == 'intermediate' and entry[\"phase\"] == 'opening']\n",
    "avg_move_quality_intermediate_opening = sum(move_qualities_intermediate_opening) / len(move_qualities_intermediate_opening)\n",
    "print(f\"Average move_quality opening intermediate: {avg_move_quality_intermediate_opening}\")\n",
    "\n",
    "# Club Player\n",
    "move_qualities_club_opening = [entry[\"move_quality\"] for entry in all_data if entry[\"move_quality\"] is not None and entry['elo_level'] == 'club_player' and entry[\"phase\"] == 'opening']\n",
    "avg_move_quality_club_opening = sum(move_qualities_club_opening) / len(move_qualities_club_opening)\n",
    "print(f\"Average move_quality opening club_player: {avg_move_quality_club_opening}\")\n",
    "\n",
    "# Advanced\n",
    "move_qualities_advanced_opening = [entry[\"move_quality\"] for entry in all_data if entry[\"move_quality\"] is not None and entry['elo_level'] == 'advanced' and entry[\"phase\"] == 'opening']\n",
    "avg_move_quality_advanced_opening = sum(move_qualities_advanced_opening) / len(move_qualities_advanced_opening)\n",
    "print(f\"Average move_quality opening advanced: {avg_move_quality_advanced_opening}\")\n",
    "\n",
    "# Expert\n",
    "move_qualities_expert_opening = [entry[\"move_quality\"] for entry in all_data if entry[\"move_quality\"] is not None and entry['elo_level'] == 'expert' and entry[\"phase\"] == 'opening']\n",
    "avg_move_quality_expert_opening = sum(move_qualities_expert_opening) / len(move_qualities_expert_opening)\n",
    "print(f\"Average move_quality opening expert: {avg_move_quality_expert_opening}\")\n"
   ]
  },
  {
   "cell_type": "code",
   "execution_count": null,
   "id": "d7c806f3",
   "metadata": {},
   "outputs": [],
   "source": [
    "#Beginner\n",
    "move_qualities_beginner_opening = [entry[\"result\"] for entry in all_data if entry[\"result\"] is not None and entry['elo_level'] == 'beginner' and entry[\"phase\"] == 'opening']\n",
    "\n",
    "avg_move_quality_beginner_opening = count(move_qualities_beginner_opening) / len(move_qualities_beginner_opening)\n",
    "print(f\"Average move_quality opening beginner: {avg_move_quality_beginner_opening}\")\n",
    "\n",
    "# Intermediate\n",
    "move_qualities_intermediate_opening = [entry[\"move_quality\"] for entry in all_data if entry[\"move_quality\"] is not None and entry['elo_level'] == 'intermediate' and entry[\"phase\"] == 'opening']\n",
    "avg_move_quality_intermediate_opening = sum(move_qualities_intermediate_opening) / len(move_qualities_intermediate_opening)\n",
    "print(f\"Average move_quality opening intermediate: {avg_move_quality_intermediate_opening}\")\n",
    "\n",
    "# Club Player\n",
    "move_qualities_club_opening = [entry[\"move_quality\"] for entry in all_data if entry[\"move_quality\"] is not None and entry['elo_level'] == 'club_player' and entry[\"phase\"] == 'opening']\n",
    "avg_move_quality_club_opening = sum(move_qualities_club_opening) / len(move_qualities_club_opening)\n",
    "print(f\"Average move_quality opening club_player: {avg_move_quality_club_opening}\")\n",
    "\n",
    "# Advanced\n",
    "move_qualities_advanced_opening = [entry[\"move_quality\"] for entry in all_data if entry[\"move_quality\"] is not None and entry['elo_level'] == 'advanced' and entry[\"phase\"] == 'opening']\n",
    "avg_move_quality_advanced_opening = sum(move_qualities_advanced_opening) / len(move_qualities_advanced_opening)\n",
    "print(f\"Average move_quality opening advanced: {avg_move_quality_advanced_opening}\")\n",
    "\n",
    "# Expert\n",
    "move_qualities_expert_opening = [entry[\"move_quality\"] for entry in all_data if entry[\"move_quality\"] is not None and entry['elo_level'] == 'expert' and entry[\"phase\"] == 'opening']\n",
    "avg_move_quality_expert_opening = sum(move_qualities_expert_opening) / len(move_qualities_expert_opening)\n",
    "print(f\"Average move_quality opening expert: {avg_move_quality_expert_opening}\")\n"
   ]
  },
  {
   "cell_type": "markdown",
   "id": "72854782",
   "metadata": {},
   "source": [
    "Phase Middlegame"
   ]
  },
  {
   "cell_type": "code",
   "execution_count": 40,
   "id": "b42c9011",
   "metadata": {},
   "outputs": [
    {
     "name": "stdout",
     "output_type": "stream",
     "text": [
      "Average move_quality middlegame all elo levels: -64.5047619047619\n"
     ]
    }
   ],
   "source": [
    "move_qualities_middle = [entry[\"move_quality\"] for entry in all_data if entry[\"move_quality\"] is not None and entry[\"phase\"] == 'middlegame']\n",
    "avg_move_quality_middle = sum(move_qualities_middle) / len(move_qualities_middle)\n",
    "print(f\"Average move_quality middlegame all elo levels: {avg_move_quality_middle}\")"
   ]
  },
  {
   "cell_type": "code",
   "execution_count": 43,
   "id": "0a9df5bd",
   "metadata": {},
   "outputs": [
    {
     "ename": "ZeroDivisionError",
     "evalue": "division by zero",
     "output_type": "error",
     "traceback": [
      "\u001b[31m---------------------------------------------------------------------------\u001b[39m",
      "\u001b[31mZeroDivisionError\u001b[39m                         Traceback (most recent call last)",
      "\u001b[36mCell\u001b[39m\u001b[36m \u001b[39m\u001b[32mIn[43]\u001b[39m\u001b[32m, line 3\u001b[39m\n\u001b[32m      1\u001b[39m \u001b[38;5;66;03m# Beginner\u001b[39;00m\n\u001b[32m      2\u001b[39m move_qualities_beginner_middlegame = [entry[\u001b[33m\"\u001b[39m\u001b[33mmove_quality\u001b[39m\u001b[33m\"\u001b[39m] \u001b[38;5;28;01mfor\u001b[39;00m entry \u001b[38;5;129;01min\u001b[39;00m all_data \u001b[38;5;28;01mif\u001b[39;00m entry[\u001b[33m\"\u001b[39m\u001b[33mmove_quality\u001b[39m\u001b[33m\"\u001b[39m] \u001b[38;5;129;01mis\u001b[39;00m \u001b[38;5;129;01mnot\u001b[39;00m \u001b[38;5;28;01mNone\u001b[39;00m \u001b[38;5;129;01mand\u001b[39;00m entry[\u001b[33m'\u001b[39m\u001b[33melo_level\u001b[39m\u001b[33m'\u001b[39m] == \u001b[33m'\u001b[39m\u001b[33mbeginner\u001b[39m\u001b[33m'\u001b[39m \u001b[38;5;129;01mand\u001b[39;00m entry[\u001b[33m\"\u001b[39m\u001b[33mphase\u001b[39m\u001b[33m\"\u001b[39m] == \u001b[33m'\u001b[39m\u001b[33mmiddlegame\u001b[39m\u001b[33m'\u001b[39m]\n\u001b[32m----> \u001b[39m\u001b[32m3\u001b[39m avg_move_quality_beginner_middlegame = \u001b[38;5;28;43msum\u001b[39;49m\u001b[43m(\u001b[49m\u001b[43mmove_qualities_beginner_middlegame\u001b[49m\u001b[43m)\u001b[49m\u001b[43m \u001b[49m\u001b[43m/\u001b[49m\u001b[43m \u001b[49m\u001b[38;5;28;43mlen\u001b[39;49m\u001b[43m(\u001b[49m\u001b[43mmove_qualities_beginner_middlegame\u001b[49m\u001b[43m)\u001b[49m\n\u001b[32m      4\u001b[39m \u001b[38;5;28mprint\u001b[39m(\u001b[33mf\u001b[39m\u001b[33m\"\u001b[39m\u001b[33mAverage move_quality middlegame beginner: \u001b[39m\u001b[38;5;132;01m{\u001b[39;00mavg_move_quality_beginner_middlegame\u001b[38;5;132;01m}\u001b[39;00m\u001b[33m\"\u001b[39m)\n\u001b[32m      6\u001b[39m \u001b[38;5;66;03m# Intermediate\u001b[39;00m\n",
      "\u001b[31mZeroDivisionError\u001b[39m: division by zero"
     ]
    }
   ],
   "source": [
    "# Beginner\n",
    "move_qualities_beginner_middlegame = [entry[\"move_quality\"] for entry in all_data if entry[\"move_quality\"] is not None and entry['elo_level'] == 'beginner' and entry[\"phase\"] == 'middlegame']\n",
    "avg_move_quality_beginner_middlegame = sum(move_qualities_beginner_middlegame) / len(move_qualities_beginner_middlegame)\n",
    "print(f\"Average move_quality middlegame beginner: {avg_move_quality_beginner_middlegame}\")\n",
    "\n",
    "# Intermediate\n",
    "move_qualities_intermediate_middlegame = [entry[\"move_quality\"] for entry in all_data if entry[\"move_quality\"] is not None and entry['elo_level'] == 'intermediate' and entry[\"phase\"] == 'middlegame']\n",
    "avg_move_quality_intermediate_middlegame = sum(move_qualities_intermediate_middlegame) / len(move_qualities_intermediate_middlegame)\n",
    "print(f\"Average move_quality middlegame intermediate: {avg_move_quality_intermediate_middlegame}\")\n",
    "\n",
    "# Club Player\n",
    "move_qualities_club_middlegame = [entry[\"move_quality\"] for entry in all_data if entry[\"move_quality\"] is not None and entry['elo_level'] == 'club_player' and entry[\"phase\"] == 'middlegame']\n",
    "avg_move_quality_club_middlegame = sum(move_qualities_club_middlegame) / len(move_qualities_club_middlegame)\n",
    "print(f\"Average move_quality middlegame club_player: {avg_move_quality_club_middlegame}\")\n",
    "\n",
    "# Advanced\n",
    "move_qualities_advanced_middlegame = [entry[\"move_quality\"] for entry in all_data if entry[\"move_quality\"] is not None and entry['elo_level'] == 'advanced' and entry[\"phase\"] == 'middlegame']\n",
    "avg_move_quality_advanced_middlegame = sum(move_qualities_advanced_middlegame) / len(move_qualities_advanced_middlegame)\n",
    "print(f\"Average move_quality middlegame advanced: {avg_move_quality_advanced_middlegame}\")\n",
    "\n",
    "# Expert\n",
    "move_qualities_expert_middlegame = [entry[\"move_quality\"] for entry in all_data if entry[\"move_quality\"] is not None and entry['elo_level'] == 'expert' and entry[\"phase\"] == 'middlegame']\n",
    "avg_move_quality_expert_middlegame = sum(move_qualities_expert_middlegame) / len(move_qualities_expert_middlegame)\n",
    "print(f\"Average move_quality middlegame expert: {avg_move_quality_expert_middlegame}\")\n"
   ]
  },
  {
   "cell_type": "markdown",
   "id": "b30af02e",
   "metadata": {},
   "source": [
    "Endgame"
   ]
  },
  {
   "cell_type": "code",
   "execution_count": 45,
   "id": "93db30b9",
   "metadata": {},
   "outputs": [
    {
     "name": "stdout",
     "output_type": "stream",
     "text": [
      "Average move_quality endgame all elo levels: 22.0\n"
     ]
    }
   ],
   "source": [
    "move_qualities_endgame = [entry[\"move_quality\"] for entry in all_data if entry[\"move_quality\"] is not None and entry[\"phase\"] == 'endgame']\n",
    "avg_move_quality_endgame = sum(move_qualities_endgame) / len(move_qualities_endgame)\n",
    "print(f\"Average move_quality endgame all elo levels: {avg_move_quality_endgame}\")"
   ]
  },
  {
   "cell_type": "code",
   "execution_count": 44,
   "id": "9caa8c6d",
   "metadata": {},
   "outputs": [
    {
     "ename": "ZeroDivisionError",
     "evalue": "division by zero",
     "output_type": "error",
     "traceback": [
      "\u001b[31m---------------------------------------------------------------------------\u001b[39m",
      "\u001b[31mZeroDivisionError\u001b[39m                         Traceback (most recent call last)",
      "\u001b[36mCell\u001b[39m\u001b[36m \u001b[39m\u001b[32mIn[44]\u001b[39m\u001b[32m, line 3\u001b[39m\n\u001b[32m      1\u001b[39m \u001b[38;5;66;03m# Beginner\u001b[39;00m\n\u001b[32m      2\u001b[39m move_qualities_beginner_endgame = [entry[\u001b[33m\"\u001b[39m\u001b[33mmove_quality\u001b[39m\u001b[33m\"\u001b[39m] \u001b[38;5;28;01mfor\u001b[39;00m entry \u001b[38;5;129;01min\u001b[39;00m all_data \u001b[38;5;28;01mif\u001b[39;00m entry[\u001b[33m\"\u001b[39m\u001b[33mmove_quality\u001b[39m\u001b[33m\"\u001b[39m] \u001b[38;5;129;01mis\u001b[39;00m \u001b[38;5;129;01mnot\u001b[39;00m \u001b[38;5;28;01mNone\u001b[39;00m \u001b[38;5;129;01mand\u001b[39;00m entry[\u001b[33m'\u001b[39m\u001b[33melo_level\u001b[39m\u001b[33m'\u001b[39m] == \u001b[33m'\u001b[39m\u001b[33mbeginner\u001b[39m\u001b[33m'\u001b[39m \u001b[38;5;129;01mand\u001b[39;00m entry[\u001b[33m\"\u001b[39m\u001b[33mphase\u001b[39m\u001b[33m\"\u001b[39m] == \u001b[33m'\u001b[39m\u001b[33mendgame\u001b[39m\u001b[33m'\u001b[39m]\n\u001b[32m----> \u001b[39m\u001b[32m3\u001b[39m avg_move_quality_beginner_endgame = \u001b[38;5;28;43msum\u001b[39;49m\u001b[43m(\u001b[49m\u001b[43mmove_qualities_beginner_endgame\u001b[49m\u001b[43m)\u001b[49m\u001b[43m \u001b[49m\u001b[43m/\u001b[49m\u001b[43m \u001b[49m\u001b[38;5;28;43mlen\u001b[39;49m\u001b[43m(\u001b[49m\u001b[43mmove_qualities_beginner_endgame\u001b[49m\u001b[43m)\u001b[49m\n\u001b[32m      4\u001b[39m \u001b[38;5;28mprint\u001b[39m(\u001b[33mf\u001b[39m\u001b[33m\"\u001b[39m\u001b[33mAverage move_quality endgame beginner: \u001b[39m\u001b[38;5;132;01m{\u001b[39;00mavg_move_quality_beginner_endgame\u001b[38;5;132;01m}\u001b[39;00m\u001b[33m\"\u001b[39m)\n\u001b[32m      6\u001b[39m \u001b[38;5;66;03m# Intermediate\u001b[39;00m\n",
      "\u001b[31mZeroDivisionError\u001b[39m: division by zero"
     ]
    }
   ],
   "source": [
    "# Beginner\n",
    "move_qualities_beginner_endgame = [entry[\"move_quality\"] for entry in all_data if entry[\"move_quality\"] is not None and entry['elo_level'] == 'beginner' and entry[\"phase\"] == 'endgame']\n",
    "avg_move_quality_beginner_endgame = sum(move_qualities_beginner_endgame) / len(move_qualities_beginner_endgame)\n",
    "print(f\"Average move_quality endgame beginner: {avg_move_quality_beginner_endgame}\")\n",
    "\n",
    "# Intermediate\n",
    "move_qualities_intermediate_endgame = [entry[\"move_quality\"] for entry in all_data if entry[\"move_quality\"] is not None and entry['elo_level'] == 'intermediate' and entry[\"phase\"] == 'endgame']\n",
    "avg_move_quality_intermediate_endgame = sum(move_qualities_intermediate_endgame) / len(move_qualities_intermediate_endgame)\n",
    "print(f\"Average move_quality endgame intermediate: {avg_move_quality_intermediate_endgame}\")\n",
    "\n",
    "# Club Player\n",
    "move_qualities_club_endgame = [entry[\"move_quality\"] for entry in all_data if entry[\"move_quality\"] is not None and entry['elo_level'] == 'club_player' and entry[\"phase\"] == 'endgame']\n",
    "avg_move_quality_club_endgame = sum(move_qualities_club_endgame) / len(move_qualities_club_endgame)\n",
    "print(f\"Average move_quality endgame club_player: {avg_move_quality_club_endgame}\")\n",
    "\n",
    "# Advanced\n",
    "move_qualities_advanced_endgame = [entry[\"move_quality\"] for entry in all_data if entry[\"move_quality\"] is not None and entry['elo_level'] == 'advanced' and entry[\"phase\"] == 'endgame']\n",
    "avg_move_quality_advanced_endgame = sum(move_qualities_advanced_endgame) / len(move_qualities_advanced_endgame)\n",
    "print(f\"Average move_quality endgame advanced: {avg_move_quality_advanced_endgame}\")\n",
    "\n",
    "# Expert\n",
    "move_qualities_expert_endgame = [entry[\"move_quality\"] for entry in all_data if entry[\"move_quality\"] is not None and entry['elo_level'] == 'expert' and entry[\"phase\"] == 'endgame']\n",
    "avg_move_quality_expert_endgame = sum(move_qualities_expert_endgame) / len(move_qualities_expert_endgame)\n",
    "print(f\"Average move_quality endgame expert: {avg_move_quality_expert_endgame}\")\n"
   ]
  }
 ],
 "metadata": {
  "kernelspec": {
   "display_name": "Python 3",
   "language": "python",
   "name": "python3"
  },
  "language_info": {
   "codemirror_mode": {
    "name": "ipython",
    "version": 3
   },
   "file_extension": ".py",
   "mimetype": "text/x-python",
   "name": "python",
   "nbconvert_exporter": "python",
   "pygments_lexer": "ipython3",
   "version": "3.12.1"
  }
 },
 "nbformat": 4,
 "nbformat_minor": 5
}
