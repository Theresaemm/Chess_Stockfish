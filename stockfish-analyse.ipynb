{
 "cells": [
  {
   "cell_type": "code",
   "execution_count": 4,
   "id": "ea0bdf9b",
   "metadata": {},
   "outputs": [
    {
     "name": "stdout",
     "output_type": "stream",
     "text": [
      "Get:1 http://archive.ubuntu.com/ubuntu focal InRelease [265 kB]\n",
      "Get:2 https://packages.microsoft.com/repos/microsoft-ubuntu-focal-prod focal InRelease [3632 B]\n",
      "Get:3 https://dl.yarnpkg.com/debian stable InRelease [17.1 kB]                 \n",
      "Get:4 http://archive.ubuntu.com/ubuntu focal-updates InRelease [128 kB]        \n",
      "Get:5 http://archive.ubuntu.com/ubuntu focal-backports InRelease [128 kB]      \n",
      "Get:6 https://repo.anaconda.com/pkgs/misc/debrepo/conda stable InRelease [3961 B]\n",
      "Get:7 https://packages.microsoft.com/repos/microsoft-ubuntu-focal-prod focal/main all Packages [2938 B]\n",
      "Get:8 https://packages.microsoft.com/repos/microsoft-ubuntu-focal-prod focal/main amd64 Packages [353 kB]\n",
      "Get:9 http://security.ubuntu.com/ubuntu focal-security InRelease [128 kB]      \n",
      "Get:10 http://archive.ubuntu.com/ubuntu focal/restricted amd64 Packages [33.4 kB]\n",
      "Get:11 http://archive.ubuntu.com/ubuntu focal/universe amd64 Packages [11.3 MB]\n",
      "Get:12 https://dl.yarnpkg.com/debian stable/main all Packages [11.8 kB]        \n",
      "Get:13 http://archive.ubuntu.com/ubuntu focal/multiverse amd64 Packages [177 kB]\n",
      "Get:14 http://archive.ubuntu.com/ubuntu focal/main amd64 Packages [1275 kB]    \n",
      "Get:15 https://dl.yarnpkg.com/debian stable/main amd64 Packages [11.8 kB]      \n",
      "Get:16 http://archive.ubuntu.com/ubuntu focal-updates/universe amd64 Packages [1599 kB]\n",
      "Get:17 http://archive.ubuntu.com/ubuntu focal-updates/main amd64 Packages [4910 kB]\n",
      "Get:18 http://archive.ubuntu.com/ubuntu focal-updates/multiverse amd64 Packages [36.8 kB]\n",
      "Get:19 http://archive.ubuntu.com/ubuntu focal-updates/restricted amd64 Packages [4979 kB]\n",
      "Get:20 https://repo.anaconda.com/pkgs/misc/debrepo/conda stable/main amd64 Packages [4557 B]\n",
      "Get:21 http://archive.ubuntu.com/ubuntu focal-backports/universe amd64 Packages [28.6 kB]\n",
      "Get:22 http://archive.ubuntu.com/ubuntu focal-backports/main amd64 Packages [55.2 kB]\n",
      "Get:24 http://security.ubuntu.com/ubuntu focal-security/main amd64 Packages [4424 kB]\n",
      "Get:23 https://packagecloud.io/github/git-lfs/ubuntu focal InRelease [29.1 kB]\n",
      "Get:25 http://security.ubuntu.com/ubuntu focal-security/multiverse amd64 Packages [33.1 kB]\n",
      "Get:26 http://security.ubuntu.com/ubuntu focal-security/universe amd64 Packages [1308 kB]\n",
      "Get:27 http://security.ubuntu.com/ubuntu focal-security/restricted amd64 Packages [4782 kB]\n",
      "Get:28 https://packagecloud.io/github/git-lfs/ubuntu focal/main amd64 Packages [4064 B]\n",
      "Fetched 36.1 MB in 2s (14.6 MB/s)                           \n",
      "Reading package lists... Done\n",
      "Reading package lists... Done\n",
      "Building dependency tree       \n",
      "Reading state information... Done\n",
      "Suggested packages:\n",
      "  polyglot xboard | scid\n",
      "The following NEW packages will be installed:\n",
      "  stockfish\n",
      "0 upgraded, 1 newly installed, 0 to remove and 67 not upgraded.\n",
      "Need to get 151 kB of archives.\n",
      "After this operation, 309 kB of additional disk space will be used.\n",
      "Get:1 http://archive.ubuntu.com/ubuntu focal/universe amd64 stockfish amd64 11-1build1 [151 kB]\n",
      "Fetched 151 kB in 0s (326 kB/s)   \n",
      "Selecting previously unselected package stockfish.\n",
      "(Reading database ... 70096 files and directories currently installed.)\n",
      "Preparing to unpack .../stockfish_11-1build1_amd64.deb ...\n",
      "Unpacking stockfish (11-1build1) ...\n",
      "Setting up stockfish (11-1build1) ...\n",
      "Processing triggers for man-db (2.9.1-1) ...\n"
     ]
    }
   ],
   "source": [
    "!sudo apt-get update\n",
    "!sudo apt-get install stockfish"
   ]
  },
  {
   "cell_type": "code",
   "execution_count": 5,
   "id": "c9595898",
   "metadata": {},
   "outputs": [
    {
     "name": "stdout",
     "output_type": "stream",
     "text": [
      "Requirement already satisfied: pip in /usr/local/python/3.12.1/lib/python3.12/site-packages (25.0.1)\n",
      "Collecting pip\n",
      "  Downloading pip-25.1.1-py3-none-any.whl.metadata (3.6 kB)\n",
      "Downloading pip-25.1.1-py3-none-any.whl (1.8 MB)\n",
      "\u001b[2K   \u001b[90m━━━━━━━━━━━━━━━━━━━━━━━━━━━━━━━━━━━━━━━━\u001b[0m \u001b[32m1.8/1.8 MB\u001b[0m \u001b[31m49.6 MB/s\u001b[0m eta \u001b[36m0:00:00\u001b[0m\n",
      "\u001b[?25hInstalling collected packages: pip\n",
      "  Attempting uninstall: pip\n",
      "    Found existing installation: pip 25.0.1\n",
      "    Uninstalling pip-25.0.1:\n",
      "      Successfully uninstalled pip-25.0.1\n",
      "Successfully installed pip-25.1.1\n",
      "Collecting chess\n",
      "  Downloading chess-1.11.2.tar.gz (6.1 MB)\n",
      "\u001b[2K     \u001b[90m━━━━━━━━━━━━━━━━━━━━━━━━━━━━━━━━━━━━━━━━\u001b[0m \u001b[32m6.1/6.1 MB\u001b[0m \u001b[31m43.7 MB/s\u001b[0m eta \u001b[36m0:00:00\u001b[0m\n",
      "\u001b[?25h  Installing build dependencies ... \u001b[?25ldone\n",
      "\u001b[?25h  Getting requirements to build wheel ... \u001b[?25ldone\n",
      "\u001b[?25h  Preparing metadata (pyproject.toml) ... \u001b[?25ldone\n",
      "\u001b[?25hCollecting zstandard\n",
      "  Downloading zstandard-0.23.0-cp312-cp312-manylinux_2_17_x86_64.manylinux2014_x86_64.whl.metadata (3.0 kB)\n",
      "Downloading zstandard-0.23.0-cp312-cp312-manylinux_2_17_x86_64.manylinux2014_x86_64.whl (5.4 MB)\n",
      "\u001b[2K   \u001b[90m━━━━━━━━━━━━━━━━━━━━━━━━━━━━━━━━━━━━━━━━\u001b[0m \u001b[32m5.4/5.4 MB\u001b[0m \u001b[31m82.5 MB/s\u001b[0m eta \u001b[36m0:00:00\u001b[0m\n",
      "\u001b[?25hBuilding wheels for collected packages: chess\n",
      "  Building wheel for chess (pyproject.toml) ... \u001b[?25ldone\n",
      "\u001b[?25h  Created wheel for chess: filename=chess-1.11.2-py3-none-any.whl size=147877 sha256=3f6779346142dc5c9defc6bacb21ac5c11af9920a6ec6268ab68dec67aa962bb\n",
      "  Stored in directory: /home/codespace/.cache/pip/wheels/83/1f/4e/8f4300f7dd554eb8de70ddfed96e94d3d030ace10c5b53d447\n",
      "Successfully built chess\n",
      "Installing collected packages: zstandard, chess\n",
      "\u001b[2K   \u001b[90m━━━━━━━━━━━━━━━━━━━━━━━━━━━━━━━━━━━━━━━━\u001b[0m \u001b[32m2/2\u001b[0m [chess]32m1/2\u001b[0m [chess]\n",
      "\u001b[1A\u001b[2KSuccessfully installed chess-1.11.2 zstandard-0.23.0\n"
     ]
    }
   ],
   "source": [
    "!pip install --upgrade pip\n",
    "!pip install chess zstandard"
   ]
  },
  {
   "cell_type": "markdown",
   "id": "559b17dc",
   "metadata": {},
   "source": [
    "Edit pgn file to remove unnecessary details"
   ]
  },
  {
   "cell_type": "code",
   "execution_count": null,
   "id": "70314f92",
   "metadata": {},
   "outputs": [],
   "source": [
    "import re\n",
    "\n",
    "def reinstate_move_numbers(moves):\n",
    "    tokens = moves.strip().split()\n",
    "    result = []\n",
    "    for i in range(0, len(tokens), 2):\n",
    "        move_number = i // 2 + 1\n",
    "        if i + 1 < len(tokens):\n",
    "            result.append(f\"{move_number}. {tokens[i]} {tokens[i+1]}\")\n",
    "        else:\n",
    "            result.append(f\"{move_number}. {tokens[i]}\")\n",
    "    return \" \".join(result)\n",
    "\n",
    "def clean_and_reformat_pgn(pgn_text):\n",
    "    games = re.split(r'\\n\\s*\\n', pgn_text.strip())\n",
    "\n",
    "    cleaned_games = []\n",
    "\n",
    "    for game in games:\n",
    "        # Trenne Header und Züge\n",
    "        header_lines = []\n",
    "        move_lines = []\n",
    "\n",
    "        for line in game.strip().splitlines():\n",
    "            if line.startswith('['):\n",
    "                header_lines.append(line)\n",
    "            else:\n",
    "                move_lines.append(line)\n",
    "\n",
    "        header = \"\\n\".join(header_lines)\n",
    "        moves_raw = \" \".join(move_lines)\n",
    "\n",
    "        # Remove unnecessary symbols (information)\n",
    "        moves = re.sub(r\"\\{[^}]*\\}\", \"\", moves_raw)\n",
    "        \n",
    "        moves = re.sub(r\"\\d+\\.\\.\\.\", \"\", moves)\n",
    "        # Entferne alle Zugnummern (z. B. 1.)\n",
    "        moves = re.sub(r\"\\d+\\.\", \"\", moves)\n",
    "        # Reduziere Leerzeichen\n",
    "        moves = re.sub(r\"\\s+\", \" \", moves).strip()\n",
    "        # Setze Zugnummern korrekt neu\n",
    "        moves_numbered = reinstate_move_numbers(moves)\n",
    "\n",
    "        cleaned_game = f\"{header}\\n\\n{moves_numbered}\"\n",
    "        cleaned_games.append(cleaned_game)\n",
    "\n",
    "    return \"\\n\\n\".join(cleaned_games)\n",
    "\n",
    "# Datei laden\n",
    "with open(\"/workspaces/Chess_Stockfish/lichess_sample_10000 (1).pgn\", \"r\", encoding=\"utf-8\") as file:\n",
    "    raw_pgn = file.read()\n",
    "\n",
    "# Bereinigen und umformatieren\n",
    "cleaned_pgn = clean_and_reformat_pgn(raw_pgn)\n",
    "\n",
    "# In Datei schreiben\n",
    "with open(\"/workspaces/Chess_Stockfish/cleaned.pgn\", \"w\", encoding=\"utf-8\") as out_file:\n",
    "    out_file.write(cleaned_pgn)\n",
    "\n"
   ]
  },
  {
   "cell_type": "markdown",
   "id": "aab45463",
   "metadata": {},
   "source": [
    "Reduce empty lines in pgn"
   ]
  },
  {
   "cell_type": "code",
   "execution_count": null,
   "id": "4aefb4ce",
   "metadata": {},
   "outputs": [],
   "source": [
    "def reduce_blank_lines_in_pgn(input_path, output_path):\n",
    "    with open(input_path, \"r\", encoding=\"utf-8\") as infile:\n",
    "        lines = infile.readlines()\n",
    "\n",
    "    cleaned_lines = []\n",
    "    current_game = []\n",
    "    blank_line_count = 0\n",
    "\n",
    "    def flush_game(game_lines):\n",
    "        \"\"\"Schreibe ein einzelnes Spiel mit genau einer Leerzeile nach dem Header.\"\"\"\n",
    "        cleaned = []\n",
    "        header_ended = False\n",
    "        blank_line_count = 0\n",
    "        for line in game_lines:\n",
    "            stripped = line.strip()\n",
    "            if stripped.startswith(\"[\"):  \n",
    "                cleaned.append(line)\n",
    "                header_ended = False\n",
    "                blank_line_count = 0\n",
    "            elif stripped == \"\":\n",
    "                if not header_ended:\n",
    "                    if blank_line_count == 0:\n",
    "                        cleaned.append(\"\\n\")\n",
    "                    blank_line_count += 1\n",
    "                    header_ended = True\n",
    "            else:\n",
    "                cleaned.append(line)\n",
    "                blank_line_count = 0\n",
    "        cleaned.append(\"\\n\")  # <== Spiel-Ende: genau eine Leerzeile nach dem Spiel\n",
    "        return cleaned\n",
    "\n",
    "    for line in lines:\n",
    "        if line.strip() == \"\" and not current_game:\n",
    "            # Leere Zeile vor einem Spielanfang -> überspringen\n",
    "            continue\n",
    "        current_game.append(line)\n",
    "        if line.strip().startswith(\"[Event\") and len(current_game) > 1:\n",
    "            # Neues Spiel beginnt -> vorheriges Spiel verarbeiten\n",
    "            cleaned_lines.extend(flush_game(current_game[:-1]))\n",
    "            current_game = [line]\n",
    "\n",
    "    if current_game:\n",
    "        cleaned_lines.extend(flush_game(current_game))\n",
    "\n",
    "    with open(output_path, \"w\", encoding=\"utf-8\") as outfile:\n",
    "        outfile.writelines(cleaned_lines)\n",
    "reduce_blank_lines_in_pgn(\"/workspaces/Chess_Stockfish/cleaned.pgn\", \"cleaned_one_line.pgn\")"
   ]
  },
  {
   "cell_type": "markdown",
   "id": "8b19b433",
   "metadata": {},
   "source": [
    "Funktion to analyse every game "
   ]
  },
  {
   "cell_type": "code",
   "execution_count": 3,
   "id": "08d3f760",
   "metadata": {},
   "outputs": [
    {
     "ename": "ModuleNotFoundError",
     "evalue": "No module named 'chess'",
     "output_type": "error",
     "traceback": [
      "\u001b[31m---------------------------------------------------------------------------\u001b[39m",
      "\u001b[31mModuleNotFoundError\u001b[39m                       Traceback (most recent call last)",
      "\u001b[36mCell\u001b[39m\u001b[36m \u001b[39m\u001b[32mIn[3]\u001b[39m\u001b[32m, line 1\u001b[39m\n\u001b[32m----> \u001b[39m\u001b[32m1\u001b[39m \u001b[38;5;28;01mimport\u001b[39;00m\u001b[38;5;250m \u001b[39m\u001b[34;01mchess\u001b[39;00m\n\u001b[32m      2\u001b[39m \u001b[38;5;28;01mimport\u001b[39;00m\u001b[38;5;250m \u001b[39m\u001b[34;01mchess\u001b[39;00m\u001b[34;01m.\u001b[39;00m\u001b[34;01mpgn\u001b[39;00m\n\u001b[32m      4\u001b[39m \u001b[38;5;66;03m#Elo scales, 1978 FIDE \u001b[39;00m\n",
      "\u001b[31mModuleNotFoundError\u001b[39m: No module named 'chess'"
     ]
    }
   ],
   "source": [
    "import chess\n",
    "import chess.pgn\n",
    "\n",
    "#Elo scales, 1978 FIDE \n",
    "def get_elo_bucket(elo):\n",
    "    if elo < 1000:\n",
    "        return \"beginner\" #Novices \n",
    "    elif elo < 1400:\n",
    "        return \"intermediate\" #Class E and D\n",
    "    elif elo < 1800:\n",
    "        return \"club_player\" #Class C and B\n",
    "    elif elo < 2200:\n",
    "        return \"advanced\" #Class A and Experts\n",
    "    else:\n",
    "        return \"expert\" #Masters\n",
    "    \n",
    "def result_to_label(result, player):\n",
    "    if result == \"1-0\":\n",
    "        return \"win\" if player == \"white\" else \"loss\"\n",
    "    elif result == \"0-1\":\n",
    "        return \"win\" if player == \"black\" else \"loss\"\n",
    "    elif result == \"1/2-1/2\":\n",
    "        return \"draw\"\n",
    "    else:\n",
    "        return \"unknown\"    \n",
    "\n",
    "def analyze_game(game, engine, game_nr, depth=15):\n",
    "    board = game.board()\n",
    "    data = []\n",
    "\n",
    "    white_elo = int(game.headers.get(\"WhiteElo\", 0))\n",
    "    black_elo = int(game.headers.get(\"BlackElo\", 0))\n",
    "    result = game.headers.get(\"Result\", \"*\")  #\"1-0\", \"0-1\", \"1/2-1/2\"\n",
    "\n",
    "    for ply, move in enumerate(game.mainline_moves()):\n",
    "        san_move = board.san(move)\n",
    "\n",
    "        # Bewertung vor dem Zug\n",
    "        info_before = engine.analyse(board, chess.engine.Limit(depth=depth))\n",
    "        score_before = info_before[\"score\"].white().score(mate_score=10000) if not info_before[\"score\"].is_mate() else 10000\n",
    "\n",
    "        # Engine-Zug berechnen\n",
    "        best_move = info_before[\"pv\"][0] if \"pv\" in info_before else None\n",
    "        if best_move:\n",
    "            best_board = board.copy()\n",
    "            best_board.push(best_move)\n",
    "            info_best = engine.analyse(best_board, chess.engine.Limit(depth=depth))\n",
    "            score_best = info_best[\"score\"].white().score(mate_score=10000) if not info_best[\"score\"].is_mate() else 10000\n",
    "        else:\n",
    "            score_best = None\n",
    "\n",
    "        # Tatsächlichen Zug spielen\n",
    "        board.push(move)\n",
    "        info_after = engine.analyse(board, chess.engine.Limit(depth=depth))\n",
    "        score_after = info_after[\"score\"].white().score(mate_score=10000) if not info_after[\"score\"].is_mate() else 10000\n",
    "\n",
    "        # Bewertung\n",
    "        if ply % 2 == 0:\n",
    "            player = \"white\"\n",
    "            elo_level = get_elo_bucket(white_elo)\n",
    "            move_quality = score_after - score_best if score_best is not None else None\n",
    "        else:\n",
    "            player = \"black\"\n",
    "            elo_level = get_elo_bucket(black_elo)\n",
    "            move_quality = score_best - score_after if score_best is not None else None\n",
    "\n",
    "        total_plies = len(list(game.mainline_moves()))\n",
    "        if ply < total_plies * 0.3:\n",
    "            phase = 'opening'\n",
    "        elif ply < total_plies * 0.7:\n",
    "            phase = 'middlegame'\n",
    "        else:\n",
    "            phase = 'endgame'\n",
    "\n",
    "        data.append({\n",
    "            \"game_nr\": game_nr,\n",
    "            \"ply\": ply,\n",
    "            \"move\": san_move,\n",
    "            \"move_quality\": move_quality,\n",
    "            \"player\": player,\n",
    "            \"elo_level\": elo_level,\n",
    "            \"phase\": phase,\n",
    "            \"result\": result_to_label(result, player)\n",
    "        })\n",
    "\n",
    "    return data\n"
   ]
  },
  {
   "cell_type": "code",
   "execution_count": 8,
   "id": "4db7302e",
   "metadata": {},
   "outputs": [
    {
     "name": "stdout",
     "output_type": "stream",
     "text": [
      "Requirement already satisfied: python-chess in /usr/local/python/3.12.1/lib/python3.12/site-packages (1.999)\n",
      "Requirement already satisfied: chess<2,>=1 in /usr/local/python/3.12.1/lib/python3.12/site-packages (from python-chess) (1.11.2)\n"
     ]
    }
   ],
   "source": [
    "!pip install python-chess"
   ]
  },
  {
   "cell_type": "code",
   "execution_count": 10,
   "id": "b2d5db22",
   "metadata": {},
   "outputs": [],
   "source": [
    "#With engine2 only opening\n",
    "import chess\n",
    "import chess.pgn\n",
    "\n",
    "# Elo scales, 1978 FIDE \n",
    "def get_elo_bucket(elo):\n",
    "    if elo < 1000:\n",
    "        return \"beginner\"\n",
    "    elif elo < 1400:\n",
    "        return \"intermediate\"\n",
    "    elif elo < 1800:\n",
    "        return \"club_player\"\n",
    "    elif elo < 2200:\n",
    "        return \"advanced\"\n",
    "    else:\n",
    "        return \"expert\"\n",
    "\n",
    "def result_to_label(result, player):\n",
    "    if result == \"1-0\":\n",
    "        return \"win\" if player == \"white\" else \"loss\"\n",
    "    elif result == \"0-1\":\n",
    "        return \"win\" if player == \"black\" else \"loss\"\n",
    "    elif result == \"1/2-1/2\":\n",
    "        return \"draw\"\n",
    "    else:\n",
    "        return \"unknown\"\n",
    "\n",
    "def analyze_game(game, engine, engine2, game_nr, depth=15):\n",
    "    board = game.board()\n",
    "    data = []\n",
    "\n",
    "    white_elo = int(game.headers.get(\"WhiteElo\", 0))\n",
    "    black_elo = int(game.headers.get(\"BlackElo\", 0))\n",
    "    result = game.headers.get(\"Result\", \"*\")\n",
    "\n",
    "    mainline_moves = list(game.mainline_moves())\n",
    "    total_plies = len(mainline_moves)\n",
    "    for ply, move in enumerate(mainline_moves):\n",
    "        if ply >= total_plies * 0.3:\n",
    "            break\n",
    "\n",
    "        # Lc0 evaluates position before move\n",
    "        info_before = engine2.analyse(board, chess.engine.Limit(depth=depth))\n",
    "        score_before = (\n",
    "            info_before[\"score\"].white().score(mate_score=10000)\n",
    "            if not info_before[\"score\"].is_mate()\n",
    "            else 10000\n",
    "        )\n",
    "\n",
    "        # Stockfish calculates best move\n",
    "        info_best = engine.analyse(board, chess.engine.Limit(depth=depth))\n",
    "        best_move = info_best[\"pv\"][0] if \"pv\" in info_best else None\n",
    "\n",
    "        if best_move:\n",
    "            best_board = board.copy()\n",
    "            best_board.push(best_move)\n",
    "            info_best_after = engine2.analyse(best_board, chess.engine.Limit(depth=depth))\n",
    "            score_best = (\n",
    "                info_best_after[\"score\"].white().score(mate_score=10000)\n",
    "                if not info_best_after[\"score\"].is_mate()\n",
    "                else 10000\n",
    "            )\n",
    "        else:\n",
    "            score_best = None\n",
    "\n",
    "        # Play actual move\n",
    "        board.push(move)\n",
    "\n",
    "        if ply % 2 == 0:\n",
    "            player = \"white\"\n",
    "            elo_level = get_elo_bucket(white_elo)\n",
    "            move_quality = score_before - score_best if score_best is not None else None\n",
    "        else:\n",
    "            player = \"black\"\n",
    "            elo_level = get_elo_bucket(black_elo)\n",
    "            move_quality = score_best - score_before if score_best is not None else None\n",
    "\n",
    "        total_plies = len(list(game.mainline_moves()))\n",
    "        if ply < total_plies * 0.3:\n",
    "            phase = 'opening'\n",
    "        elif ply < total_plies * 0.7:\n",
    "            phase = 'middlegame'\n",
    "        else:\n",
    "            phase = 'endgame'\n",
    "\n",
    "        data.append({\n",
    "            \"game_nr\": game_nr,\n",
    "            \"ply\": ply,\n",
    "            \"move\": san_move,\n",
    "            \"move_quality\": move_quality,\n",
    "            \"player\": player,\n",
    "            \"elo_level\": elo_level,\n",
    "            \"phase\": phase,\n",
    "            \"result\": result_to_label(result, player),\n",
    "            \"eval_lc0_before\": score_before\n",
    "        })\n",
    "\n",
    "    return data\n"
   ]
  },
  {
   "cell_type": "code",
   "execution_count": 23,
   "id": "920615c0",
   "metadata": {},
   "outputs": [],
   "source": [
    "engine = chess.engine.SimpleEngine.popen_uci(\"/usr/games/stockfish\")"
   ]
  },
  {
   "cell_type": "code",
   "execution_count": 24,
   "id": "c1e6b1d3",
   "metadata": {},
   "outputs": [],
   "source": [
    "import chess.engine\n",
    "#engine2 = chess.engine.SimpleEngine.popen_uci(\"lc0_dir/lc0\")"
   ]
  },
  {
   "cell_type": "code",
   "execution_count": 27,
   "id": "7b894f55",
   "metadata": {},
   "outputs": [
    {
     "name": "stdout",
     "output_type": "stream",
     "text": [
      "Analysiere Spiel 1...\n"
     ]
    },
    {
     "ename": "NameError",
     "evalue": "name 'analyze_game' is not defined",
     "output_type": "error",
     "traceback": [
      "\u001b[31m---------------------------------------------------------------------------\u001b[39m",
      "\u001b[31mNameError\u001b[39m                                 Traceback (most recent call last)",
      "\u001b[36mCell\u001b[39m\u001b[36m \u001b[39m\u001b[32mIn[27]\u001b[39m\u001b[32m, line 58\u001b[39m\n\u001b[32m     55\u001b[39m \u001b[38;5;28mprint\u001b[39m(\u001b[33mf\u001b[39m\u001b[33m\"\u001b[39m\u001b[33mAnalysiere Spiel \u001b[39m\u001b[38;5;132;01m{\u001b[39;00mcurrent_game_nr\u001b[38;5;132;01m}\u001b[39;00m\u001b[33m...\u001b[39m\u001b[33m\"\u001b[39m)\n\u001b[32m     57\u001b[39m \u001b[38;5;28;01mtry\u001b[39;00m:\n\u001b[32m---> \u001b[39m\u001b[32m58\u001b[39m     new_game_data = \u001b[43manalyze_game\u001b[49m(game, engine, game_nr=current_game_nr)\n\u001b[32m     60\u001b[39m     \u001b[38;5;66;03m# Erwartete Anzahl Züge (plies) im Spiel\u001b[39;00m\n\u001b[32m     61\u001b[39m     expected_plies = \u001b[38;5;28mlen\u001b[39m(\u001b[38;5;28mlist\u001b[39m(game.mainline_moves()))\n",
      "\u001b[31mNameError\u001b[39m: name 'analyze_game' is not defined"
     ]
    }
   ],
   "source": [
    "import json\n",
    "import os\n",
    "import chess\n",
    "import chess.engine\n",
    "import chess.pgn\n",
    "from io import StringIO\n",
    "\n",
    "DATA_FILE = \"chess_data2.json\"\n",
    "\n",
    "def save_data(new_data):\n",
    "    if os.path.exists(DATA_FILE):\n",
    "        with open(DATA_FILE, \"r\") as f:\n",
    "            existing_data = json.load(f)\n",
    "    else:\n",
    "        existing_data = []\n",
    "\n",
    "    existing_data.extend(new_data)\n",
    "\n",
    "    with open(DATA_FILE, \"w\") as f:\n",
    "        json.dump(existing_data, f, indent=2)\n",
    "\n",
    "def load_data():\n",
    "    if os.path.exists(DATA_FILE):\n",
    "        with open(DATA_FILE, \"r\") as f:\n",
    "            return json.load(f)\n",
    "    else:\n",
    "        return []\n",
    "\n",
    "# === Hauptprogramm ===\n",
    "PGN_FILE = \"/workspaces/Chess_Stockfish/cleaned_one_line.pgn\"\n",
    "\n",
    "engine = chess.engine.SimpleEngine.popen_uci(\"/usr/games/stockfish\")\n",
    "\n",
    "\n",
    "MAX_GAMES = 1000\n",
    "game_count = 0\n",
    "\n",
    "# Bestehende Daten laden\n",
    "all_data = load_data()\n",
    "\n",
    "# Letzter gespeicherter game_nr ermitteln\n",
    "if all_data:\n",
    "    last_game_nr = max(d[\"game_nr\"] for d in all_data)\n",
    "else:\n",
    "    last_game_nr = 0\n",
    "\n",
    "with open(PGN_FILE) as pgn:\n",
    "    while game_count < MAX_GAMES:\n",
    "        game = chess.pgn.read_game(pgn)\n",
    "        if game is None:\n",
    "            break\n",
    "\n",
    "        game_count += 1\n",
    "        current_game_nr = last_game_nr + game_count\n",
    "        print(f\"Analysiere Spiel {current_game_nr}...\")\n",
    "\n",
    "        try:\n",
    "            new_game_data = analyze_game(game, engine, game_nr=current_game_nr)\n",
    "\n",
    "            # Erwartete Anzahl Züge (plies) im Spiel\n",
    "            expected_plies = len(list(game.mainline_moves()))\n",
    "\n",
    "            # Nur speichern, wenn das Spiel komplett analysiert wurde\n",
    "            if len(new_game_data) == expected_plies:\n",
    "                save_data(new_game_data)\n",
    "                print(f\"Spiel {current_game_nr} gespeichert.\")\n",
    "            else:\n",
    "                print(f\"Spiel {current_game_nr} NICHT gespeichert – Analyse unvollständig.\")\n",
    "        except KeyboardInterrupt:\n",
    "            print(\"Analyse abgebrochen. Spiel wird nicht gespeichert.\")\n",
    "            break\n",
    "\n",
    "engine.quit()\n"
   ]
  },
  {
   "cell_type": "code",
   "execution_count": 11,
   "id": "0b95c55a",
   "metadata": {},
   "outputs": [],
   "source": [
    "all_data = load_data()"
   ]
  },
  {
   "cell_type": "markdown",
   "id": "c570a477",
   "metadata": {},
   "source": [
    "•Opening Theory Compliance – Do players follow book openings correctly, or do they deviate early?•Strategic Conformance – How well do players adhere to established positional and tactical guidelines?\n",
    "•Endgame Fundamentals – Are winning endgame techniques executed correctly, or do deviations impact results?•Skill-Based Differences – Do higher-rated players exhibit greater conformance, and how does deviation affect performance"
   ]
  },
  {
   "cell_type": "markdown",
   "id": "b1d8f7be",
   "metadata": {},
   "source": [
    "opening phase already analyzed avg move_quality\n",
    "\n",
    "percentage of different elo levels beeing black and white\n",
    "\n",
    "percentage of players range certain deviations eg difference more than 100, 100-90...: how does avg move_quality affect win/loss regardless of elo_level\n",
    "\n",
    "compare all move_qualities of div elo levels, dif phases and whole game to percentage games won by different elo levels\n",
    "\n",
    "Because of stockfish the later the game phase the better move_quality??"
   ]
  },
  {
   "cell_type": "markdown",
   "id": "f36a0175",
   "metadata": {},
   "source": [
    "Whole game "
   ]
  },
  {
   "cell_type": "code",
   "execution_count": 9,
   "id": "87895801",
   "metadata": {},
   "outputs": [
    {
     "name": "stdout",
     "output_type": "stream",
     "text": [
      "Average move_quality whole game all elo levels: -62.39818016115266\n",
      "Average move_quality whole game all elo levels but only white players: -39.97016082711085\n",
      "Average move_quality whole game all elo levels but only black players: -85.16157052496575\n"
     ]
    }
   ],
   "source": [
    "move_qualities = [entry[\"move_quality\"] for entry in all_data if entry[\"move_quality\"] is not None]\n",
    "avg_move_quality = sum(move_qualities) / len(move_qualities)\n",
    "print(f\"Average move_quality whole game all elo levels: {avg_move_quality}\")\n",
    "\n",
    "move_qualities_white = [entry[\"move_quality\"] for entry in all_data if entry[\"move_quality\"] is not None and entry[\"player\"] == 'white']\n",
    "avg_move_quality_white = sum(move_qualities_white) / len(move_qualities_white)\n",
    "print(f\"Average move_quality whole game all elo levels but only white players: {avg_move_quality_white}\")\n",
    "\n",
    "move_qualities_black = [entry[\"move_quality\"] for entry in all_data if entry[\"move_quality\"] is not None and entry[\"player\"] == 'black']\n",
    "avg_move_quality_black = sum(move_qualities_black) / len(move_qualities_black)\n",
    "print(f\"Average move_quality whole game all elo levels but only black players: {avg_move_quality_black}\")"
   ]
  },
  {
   "cell_type": "code",
   "execution_count": 12,
   "id": "b07cb39e",
   "metadata": {},
   "outputs": [
    {
     "name": "stdout",
     "output_type": "stream",
     "text": [
      "Percentage of players with elo_level beginner being player white: 0.5037037037037037\n",
      "Percentage of players with elo_level intermediate being player white: 0.5040214477211796\n",
      "Percentage of players with elo_level club_player being player white: 0.4931506849315068\n",
      "Percentage of players with elo_level advanced being player white: 0.5053272450532724\n",
      "Percentage of players with elo_level expert being player white: 0.5185185185185185\n"
     ]
    }
   ],
   "source": [
    "total_white = len([entry[\"game_nr\"] for entry in all_data if entry[\"ply\"] == 0])\n",
    "elo_levels = [\"beginner\", \"intermediate\", \"club_player\", \"advanced\", \"expert\"]\n",
    "for level in elo_levels:\n",
    "    number_games_elo_level_white = len([entry[\"game_nr\"] for entry in all_data if entry[\"elo_level\"] == level and entry[\"ply\"] == 0])\n",
    "    number_games_elo_level =  len([entry[\"game_nr\"] for entry in all_data if entry[\"elo_level\"] == level and entry[\"ply\"] < 2])\n",
    "    percentage_elo_level_white = number_games_elo_level_white / number_games_elo_level\n",
    "    print(f\"Percentage of players with elo_level {level} being player white: {percentage_elo_level_white}\")    "
   ]
  },
  {
   "cell_type": "markdown",
   "id": "b756d352",
   "metadata": {},
   "source": [
    "Percentage of games won by players with different move quality in their first turn"
   ]
  },
  {
   "cell_type": "code",
   "execution_count": 13,
   "id": "4f45d4be",
   "metadata": {},
   "outputs": [
    {
     "name": "stdout",
     "output_type": "stream",
     "text": [
      "Number of games won all elo levels with move_quality first turn over -100: 958\n",
      "Percentage of games won all elo levels with move_quality first turn over -100: 0.4823766364551863\n",
      "\n",
      "Number of games won all elo levels with move_quality first turn over -75: 920\n",
      "Percentage of games won all elo levels with move_quality first turn over -75: 0.48092002090956615\n",
      "\n",
      "Number of games won all elo levels with move_quality first turn over -50: 791\n",
      "Percentage of games won all elo levels with move_quality first turn over -50: 0.47393648891551826\n",
      "\n",
      "Number of games won all elo levels with move_quality first turn over -25: 566\n",
      "Percentage of games won all elo levels with move_quality first turn over -25: 0.4502784407319014\n",
      "\n",
      "Number of games won all elo levels with move_quality first turn over -10: 396\n",
      "Percentage of games won all elo levels with move_quality first turn over -10: 0.47653429602888087\n",
      "\n"
     ]
    }
   ],
   "source": [
    "thresholds = [-100, -75, -50, -25, -10]\n",
    "for threshold in thresholds:\n",
    "    number_games_win = len([\n",
    "        entry[\"game_nr\"] for entry in all_data\n",
    "        if entry['result'] == 'win' and entry[\"ply\"] < 2 and entry['move_quality'] > threshold\n",
    "    ])\n",
    "    total_games = len([\n",
    "        entry[\"game_nr\"] for entry in all_data\n",
    "        if entry[\"ply\"] < 2 and entry['move_quality'] > threshold\n",
    "    ])\n",
    "    percentage_games_won = number_games_win / total_games if total_games > 0 else 0\n",
    "    print(f\"Number of games won all elo levels with move_quality first turn over {threshold}: {number_games_win}\")\n",
    "    print(f\"Percentage of games won all elo levels with move_quality first turn over {threshold}: {percentage_games_won}\")\n",
    "    print('')\n"
   ]
  },
  {
   "cell_type": "markdown",
   "id": "7c1c9050",
   "metadata": {},
   "source": [
    "\n",
    "Average move_qualities of players with different elo levels for all phases of the game"
   ]
  },
  {
   "cell_type": "code",
   "execution_count": 14,
   "id": "4c2a2ed4",
   "metadata": {},
   "outputs": [
    {
     "name": "stdout",
     "output_type": "stream",
     "text": [
      "Average move_quality whole game beginner: -3.4766780432309443\n",
      "Average move_quality whole game intermediate: -28.022786121180737\n",
      "Average move_quality whole game club_player: -85.4731924741782\n",
      "Average move_quality whole game advanced: -63.99712368168744\n",
      "Average move_quality whole game expert: -92.48602106969206\n"
     ]
    }
   ],
   "source": [
    "elo_levels = [\"beginner\", \"intermediate\", \"club_player\", \"advanced\", \"expert\"]\n",
    "\n",
    "for level in elo_levels:\n",
    "    move_qualities = [ entry[\"move_quality\"] for entry in all_data\n",
    "        if entry[\"move_quality\"] is not None and entry['elo_level'] == level\n",
    "    ]\n",
    "    avg_move_quality = sum(move_qualities) / len(move_qualities) if move_qualities else 0\n",
    "    print(f\"Average move_quality whole game {level}: {avg_move_quality}\")"
   ]
  },
  {
   "cell_type": "markdown",
   "id": "25da8bc1",
   "metadata": {},
   "source": [
    "Percentage of games won by players of different elo levels"
   ]
  },
  {
   "cell_type": "code",
   "execution_count": 15,
   "id": "10540f39",
   "metadata": {},
   "outputs": [
    {
     "name": "stdout",
     "output_type": "stream",
     "text": [
      "Number of games won beginner: 31\n",
      "Percentage of games won beginner: 0.45588235294117646\n",
      "\n",
      "Number of games won intermediate: 88\n",
      "Percentage of games won intermediate: 0.46808510638297873\n",
      "\n",
      "Number of games won club_player: 181\n",
      "Percentage of games won club_player: 0.5070028011204482\n",
      "\n",
      "Number of games won advanced: 157\n",
      "Percentage of games won advanced: 0.4815950920245399\n",
      "\n",
      "Number of games won expert: 34\n",
      "Percentage of games won expert: 0.4857142857142857\n",
      "\n"
     ]
    }
   ],
   "source": [
    "elo_levels = ['beginner', 'intermediate', 'club_player', 'advanced', 'expert']\n",
    "#white\n",
    "for level in elo_levels:\n",
    "    games = {entry[\"game_nr\"] for entry in all_data if entry[\"ply\"] < 1 and entry[\"elo_level\"] == level}\n",
    "    wins = {entry[\"game_nr\"] for entry in all_data if entry[\"ply\"] < 1 and entry[\"elo_level\"] == level and entry['result'] == 'win'}\n",
    "    \n",
    "    num_games = len(games)\n",
    "    num_wins = len(wins)\n",
    "    percentage = num_wins / num_games if num_games > 0 else 0\n",
    "\n",
    "    print(f\"Number of games won {level}: {num_wins}\")\n",
    "    print(f\"Percentage of games won {level}: {percentage}\")\n",
    "    print('')\n"
   ]
  },
  {
   "cell_type": "markdown",
   "id": "9256eb24",
   "metadata": {},
   "source": [
    "Phase Opening"
   ]
  },
  {
   "cell_type": "code",
   "execution_count": 16,
   "id": "79d4d55e",
   "metadata": {},
   "outputs": [
    {
     "name": "stdout",
     "output_type": "stream",
     "text": [
      "Average move_quality opening all elo levels: -46.518992120039634\n"
     ]
    }
   ],
   "source": [
    "move_qualities_opening = [entry[\"move_quality\"] for entry in all_data if entry[\"move_quality\"] is not None and entry[\"phase\"] == 'opening']\n",
    "avg_move_quality_opening = sum(move_qualities_opening) / len(move_qualities_opening)\n",
    "print(f\"Average move_quality opening all elo levels: {avg_move_quality_opening}\")"
   ]
  },
  {
   "cell_type": "code",
   "execution_count": 17,
   "id": "8ce4a155",
   "metadata": {},
   "outputs": [
    {
     "name": "stdout",
     "output_type": "stream",
     "text": [
      "Average move_quality opening beginner: -55.858823529411765\n",
      "Average move_quality opening intermediate: -44.457758412006775\n",
      "Average move_quality opening club_player: -45.939876957494405\n",
      "Average move_quality opening advanced: -47.36063708759954\n",
      "Average move_quality opening expert: -42.590250329380765\n"
     ]
    }
   ],
   "source": [
    "elo_levels = ['beginner', 'intermediate', 'club_player', 'advanced', 'expert']\n",
    "\n",
    "for level in elo_levels:\n",
    "    move_qualities_opening = [\n",
    "        entry[\"move_quality\"]\n",
    "        for entry in all_data\n",
    "        if entry[\"move_quality\"] is not None and\n",
    "           entry[\"elo_level\"] == level and\n",
    "           entry[\"phase\"] == \"opening\"\n",
    "    ]\n",
    "\n",
    "    if move_qualities_opening:  # schützt vor Division durch 0\n",
    "        avg_move_quality = sum(move_qualities_opening) / len(move_qualities_opening)\n",
    "        print(f\"Average move_quality opening {level}: {avg_move_quality}\")\n",
    "    else:\n",
    "        print(f\"No data for opening phase in elo level {level}.\")"
   ]
  },
  {
   "cell_type": "markdown",
   "id": "72854782",
   "metadata": {},
   "source": [
    "Phase Middlegame"
   ]
  },
  {
   "cell_type": "code",
   "execution_count": 18,
   "id": "b42c9011",
   "metadata": {},
   "outputs": [
    {
     "name": "stdout",
     "output_type": "stream",
     "text": [
      "Average move_quality middlegame all elo levels: -94.85671976017626\n"
     ]
    }
   ],
   "source": [
    "move_qualities_middle = [entry[\"move_quality\"] for entry in all_data if entry[\"move_quality\"] is not None and entry[\"phase\"] == 'middlegame']\n",
    "avg_move_quality_middle = sum(move_qualities_middle) / len(move_qualities_middle)\n",
    "print(f\"Average move_quality middlegame all elo levels: {avg_move_quality_middle}\")"
   ]
  },
  {
   "cell_type": "code",
   "execution_count": 19,
   "id": "7c100fd3",
   "metadata": {},
   "outputs": [
    {
     "name": "stdout",
     "output_type": "stream",
     "text": [
      "Average move_quality middlegame beginner: -107.48307515777395\n",
      "Average move_quality middlegame intermediate: -113.97585698488759\n",
      "Average move_quality middlegame club_player: -88.68519508284339\n",
      "Average move_quality middlegame advanced: -87.92431491953023\n",
      "Average move_quality middlegame expert: -92.68937468225724\n"
     ]
    }
   ],
   "source": [
    "elo_levels = ['beginner', 'intermediate', 'club_player', 'advanced', 'expert']\n",
    "\n",
    "for level in elo_levels:\n",
    "    move_qualities_middlegame = [\n",
    "        entry[\"move_quality\"]\n",
    "        for entry in all_data\n",
    "        if entry[\"move_quality\"] is not None and\n",
    "           entry[\"elo_level\"] == level and\n",
    "           entry[\"phase\"] == \"middlegame\"\n",
    "    ]\n",
    "\n",
    "    if move_qualities_middlegame:  # schützt vor Division durch 0\n",
    "        avg_move_quality = sum(move_qualities_middlegame) / len(move_qualities_middlegame)\n",
    "        print(f\"Average move_quality middlegame {level}: {avg_move_quality}\")\n",
    "    else:\n",
    "        print(f\"No data for middlegame phase in elo level {level}.\")"
   ]
  },
  {
   "cell_type": "markdown",
   "id": "b30af02e",
   "metadata": {},
   "source": [
    "Endgame"
   ]
  },
  {
   "cell_type": "code",
   "execution_count": 20,
   "id": "93db30b9",
   "metadata": {},
   "outputs": [
    {
     "name": "stdout",
     "output_type": "stream",
     "text": [
      "Average move_quality endgame all elo levels: -34.6334765644293\n"
     ]
    }
   ],
   "source": [
    "move_qualities_endgame = [entry[\"move_quality\"] for entry in all_data if entry[\"move_quality\"] is not None and entry[\"phase\"] == 'endgame']\n",
    "avg_move_quality_endgame = sum(move_qualities_endgame) / len(move_qualities_endgame)\n",
    "print(f\"Average move_quality endgame all elo levels: {avg_move_quality_endgame}\")"
   ]
  },
  {
   "cell_type": "code",
   "execution_count": 25,
   "id": "a547c376",
   "metadata": {},
   "outputs": [
    {
     "name": "stdout",
     "output_type": "stream",
     "text": [
      "Average move_quality endgame beginner: 191.97445820433435\n",
      "Average move_quality endgame intermediate: 106.8949494949495\n",
      "Average move_quality endgame club_player: -122.4925285672429\n",
      "Average move_quality endgame advanced: -48.65823161655255\n",
      "Average move_quality endgame expert: -144.41006202618883\n"
     ]
    }
   ],
   "source": [
    "elo_levels = ['beginner', 'intermediate', 'club_player', 'advanced', 'expert']\n",
    "\n",
    "for level in elo_levels:\n",
    "    move_qualities_endgame = [\n",
    "        entry[\"move_quality\"]\n",
    "        for entry in all_data\n",
    "        if entry[\"move_quality\"] is not None and\n",
    "           entry[\"elo_level\"] == level and\n",
    "           entry[\"phase\"] == \"endgame\"\n",
    "    ]\n",
    "\n",
    "    if move_qualities_endgame:  # schützt vor Division durch 0\n",
    "        avg_move_quality = sum(move_qualities_endgame) / len(move_qualities_endgame)\n",
    "        print(f\"Average move_quality endgame {level}: {avg_move_quality}\")\n",
    "    else:\n",
    "        print(f\"No data for endgame phase in elo level {level}.\")"
   ]
  },
  {
   "cell_type": "markdown",
   "id": "b22132f5",
   "metadata": {},
   "source": [
    "Percentages of games won with different ranges of avg move_quality"
   ]
  },
  {
   "cell_type": "code",
   "execution_count": 24,
   "id": "ffbebaed",
   "metadata": {},
   "outputs": [
    {
     "name": "stdout",
     "output_type": "stream",
     "text": [
      "Percentage of games won with average move_quality - -10000 < move_quality =< -200: 0.9310344827586207 \n",
      "Percentage of games won with average move_quality - -200 < move_quality =< -150: 0.9298245614035088 \n",
      "Percentage of games won with average move_quality - -150 < move_quality =< -100: 0.9915730337078652 \n",
      "Percentage of games won with average move_quality - -100 < move_quality =< -50: 1.0082236842105263 \n",
      "Percentage of games won with average move_quality - -50 < move_quality =< 0: 1.0002042483660132 \n",
      "Percentage of games won with average move_quality - 0 < move_quality =< 10000: 1.0 \n"
     ]
    }
   ],
   "source": [
    "number = [-10000,-200, -150, -100, -50, 0]\n",
    "number2  = [-200, -150, -100, -50, 0, 10000]\n",
    "\n",
    "count = 0\n",
    "count2 = 0\n",
    "for n in range(6):\n",
    "    for game_nr in range(10001):\n",
    "        if game_nr == 0:\n",
    "            continue\n",
    "        move_qualities_dif_game_nr = [\n",
    "        entry[\"move_quality\"]\n",
    "        for entry in all_data\n",
    "        if entry[\"game_nr\"] == game_nr\n",
    "        and entry[\"player\"] == 'white'\n",
    "        and entry['result'] == 'win'\n",
    "        ]\n",
    "        #avg_move_quality_game_nr = None\n",
    "        if move_qualities_dif_game_nr:\n",
    "            avg_move_quality_game_nr = sum(move_qualities_dif_game_nr) / len(move_qualities_dif_game_nr)\n",
    "        if avg_move_quality_game_nr <= number2[n] and avg_move_quality_game_nr > number[n]:\n",
    "           count += 1\n",
    "\n",
    "        move_qualities_dif_game_nr = [\n",
    "        entry[\"move_quality\"]\n",
    "        for entry in all_data\n",
    "        if entry[\"game_nr\"] == game_nr\n",
    "        and entry[\"player\"] == 'white'\n",
    "        ]\n",
    "        #avg_move_quality_game_nr = None\n",
    "        if move_qualities_dif_game_nr:\n",
    "            avg_move_quality_game_nr = sum(move_qualities_dif_game_nr) / len(move_qualities_dif_game_nr)\n",
    "        if avg_move_quality_game_nr <= number2[n] and avg_move_quality_game_nr > number[n]:\n",
    "           count2 += 1\n",
    "    percentage = count/count2 if count2 > 0 else 0\n",
    "    print(f\"Percentage of games won with average move_quality - {number[n]} < move_quality =< {number2[n]}: {percentage} \")\n",
    "\n"
   ]
  },
  {
   "cell_type": "code",
   "execution_count": null,
   "id": "bb9f770b",
   "metadata": {},
   "outputs": [],
   "source": [
    "import chess\n",
    "import chess.pgn\n",
    "\n",
    "#Elo scales, 1978 FIDE \n",
    "def get_elo_bucket(elo):\n",
    "    if elo < 1000:\n",
    "        return \"beginner\" #Novices \n",
    "    elif elo < 1400:\n",
    "        return \"intermediate\" #Class E and D\n",
    "    elif elo < 1800:\n",
    "        return \"club_player\" #Class C and B\n",
    "    elif elo < 2200:\n",
    "        return \"advanced\" #Class A and Experts\n",
    "    else:\n",
    "        return \"expert\" #Masters\n",
    "    \n",
    "def result_to_label(result, player):\n",
    "    if result == \"1-0\":\n",
    "        return \"win\" if player == \"white\" else \"loss\"\n",
    "    elif result == \"0-1\":\n",
    "        return \"win\" if player == \"black\" else \"loss\"\n",
    "    elif result == \"1/2-1/2\":\n",
    "        return \"draw\"\n",
    "    else:\n",
    "        return \"unknown\"    \n",
    "\n",
    "def analyze_game_opening(game, engine, game_nr, depth=25):\n",
    "    board = game.board()\n",
    "    data = []\n",
    "    if ply \n",
    "\n",
    "    white_elo = int(game.headers.get(\"WhiteElo\", 0))\n",
    "    black_elo = int(game.headers.get(\"BlackElo\", 0))\n",
    "    result = game.headers.get(\"Result\", \"*\")  #\"1-0\", \"0-1\", \"1/2-1/2\"\n",
    "\n",
    "    for ply, move in enumerate(game.mainline_moves()):\n",
    "        san_move = board.san(move)\n",
    "\n",
    "        # Bewertung vor dem Zug\n",
    "        info_before = engine.analyse(board, chess.engine.Limit(depth=depth))\n",
    "        score_before = info_before[\"score\"].white().score(mate_score=10000) if not info_before[\"score\"].is_mate() else 10000\n",
    "\n",
    "        # Engine-Zug berechnen\n",
    "        best_move = info_before[\"pv\"][0] if \"pv\" in info_before else None\n",
    "        if best_move:\n",
    "            best_board = board.copy()\n",
    "            best_board.push(best_move)\n",
    "            info_best = engine.analyse(best_board, chess.engine.Limit(depth=depth))\n",
    "            score_best = info_best[\"score\"].white().score(mate_score=10000) if not info_best[\"score\"].is_mate() else 10000\n",
    "        else:\n",
    "            score_best = None\n",
    "\n",
    "        # Tatsächlichen Zug spielen\n",
    "        board.push(move)\n",
    "        info_after = engine.analyse(board, chess.engine.Limit(depth=depth))\n",
    "        score_after = info_after[\"score\"].white().score(mate_score=10000) if not info_after[\"score\"].is_mate() else 10000\n",
    "\n",
    "        # Bewertung\n",
    "        if ply % 2 == 0:\n",
    "            player = \"white\"\n",
    "            elo_level = get_elo_bucket(white_elo)\n",
    "            move_quality = score_after - score_best if score_best is not None else None\n",
    "        else:\n",
    "            player = \"black\"\n",
    "            elo_level = get_elo_bucket(black_elo)\n",
    "            move_quality = score_best - score_after if score_best is not None else None\n",
    "\n",
    "        total_plies = len(list(game.mainline_moves()))\n",
    "        if ply < total_plies * 0.3:\n",
    "            phase = 'opening'\n",
    "        elif ply < total_plies * 0.7:\n",
    "            phase = 'middlegame'\n",
    "        else:\n",
    "            phase = 'endgame'\n",
    "\n",
    "        data.append({\n",
    "            \"game_nr\": game_nr,\n",
    "            \"ply\": ply,\n",
    "            \"move\": san_move,\n",
    "            \"move_quality\": move_quality,\n",
    "            \"player\": player,\n",
    "            \"elo_level\": elo_level,\n",
    "            \"phase\": phase,\n",
    "            \"result\": result_to_label(result, player)\n",
    "        })\n",
    "\n",
    "    return data\n"
   ]
  }
 ],
 "metadata": {
  "kernelspec": {
   "display_name": "Python 3",
   "language": "python",
   "name": "python3"
  },
  "language_info": {
   "codemirror_mode": {
    "name": "ipython",
    "version": 3
   },
   "file_extension": ".py",
   "mimetype": "text/x-python",
   "name": "python",
   "nbconvert_exporter": "python",
   "pygments_lexer": "ipython3",
   "version": "3.12.1"
  }
 },
 "nbformat": 4,
 "nbformat_minor": 5
}
