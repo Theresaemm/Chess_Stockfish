{
 "cells": [
  {
   "cell_type": "code",
   "execution_count": 47,
   "id": "ea0bdf9b",
   "metadata": {},
   "outputs": [
    {
     "name": "stdout",
     "output_type": "stream",
     "text": [
      "Hit:1 https://packages.microsoft.com/repos/microsoft-ubuntu-focal-prod focal InRelease\n",
      "Hit:2 https://dl.yarnpkg.com/debian stable InRelease                           \n",
      "Hit:3 https://repo.anaconda.com/pkgs/misc/debrepo/conda stable InRelease       \n",
      "Hit:4 http://security.ubuntu.com/ubuntu focal-security InRelease               \n",
      "Hit:5 http://archive.ubuntu.com/ubuntu focal InRelease                         \n",
      "Get:6 http://archive.ubuntu.com/ubuntu focal-updates InRelease [128 kB] \n",
      "Hit:7 http://archive.ubuntu.com/ubuntu focal-backports InRelease               \n",
      "Hit:8 https://packagecloud.io/github/git-lfs/ubuntu focal InRelease\n",
      "Fetched 128 kB in 1s (122 kB/s)\n",
      "Reading package lists... Done\n",
      "Reading package lists... Done\n",
      "Building dependency tree       \n",
      "Reading state information... Done\n",
      "stockfish is already the newest version (11-1build1).\n",
      "0 upgraded, 0 newly installed, 0 to remove and 85 not upgraded.\n"
     ]
    }
   ],
   "source": [
    "!sudo apt-get update\n",
    "!sudo apt-get install stockfish"
   ]
  },
  {
   "cell_type": "code",
   "execution_count": 1,
   "id": "c9595898",
   "metadata": {},
   "outputs": [
    {
     "name": "stdout",
     "output_type": "stream",
     "text": [
      "Requirement already satisfied: pip in /usr/local/python/3.12.1/lib/python3.12/site-packages (25.1.1)\n",
      "Requirement already satisfied: chess in /usr/local/python/3.12.1/lib/python3.12/site-packages (1.11.2)\n",
      "Requirement already satisfied: zstandard in /usr/local/python/3.12.1/lib/python3.12/site-packages (0.23.0)\n"
     ]
    }
   ],
   "source": [
    "!pip install --upgrade pip\n",
    "!pip install chess zstandard"
   ]
  },
  {
   "cell_type": "markdown",
   "id": "559b17dc",
   "metadata": {},
   "source": [
    "Edit pgn file to remove unnecessary details"
   ]
  },
  {
   "cell_type": "code",
   "execution_count": 49,
   "id": "70314f92",
   "metadata": {},
   "outputs": [],
   "source": [
    "import re\n",
    "\n",
    "def reinstate_move_numbers(moves):\n",
    "    tokens = moves.strip().split()\n",
    "    result = []\n",
    "    for i in range(0, len(tokens), 2):\n",
    "        move_number = i // 2 + 1\n",
    "        if i + 1 < len(tokens):\n",
    "            result.append(f\"{move_number}. {tokens[i]} {tokens[i+1]}\")\n",
    "        else:\n",
    "            result.append(f\"{move_number}. {tokens[i]}\")\n",
    "    return \" \".join(result)\n",
    "\n",
    "def clean_and_reformat_pgn(pgn_text):\n",
    "    games = re.split(r'\\n\\s*\\n', pgn_text.strip())\n",
    "\n",
    "    cleaned_games = []\n",
    "\n",
    "    for game in games:\n",
    "        # Trenne Header und Züge\n",
    "        header_lines = []\n",
    "        move_lines = []\n",
    "\n",
    "        for line in game.strip().splitlines():\n",
    "            if line.startswith('['):\n",
    "                header_lines.append(line)\n",
    "            else:\n",
    "                move_lines.append(line)\n",
    "\n",
    "        header = \"\\n\".join(header_lines)\n",
    "        moves_raw = \" \".join(move_lines)\n",
    "\n",
    "        # Remove unnecessary symbols (information)\n",
    "        moves = re.sub(r\"\\{[^}]*\\}\", \"\", moves_raw)\n",
    "        \n",
    "        moves = re.sub(r\"\\d+\\.\\.\\.\", \"\", moves)\n",
    "        # Entferne alle Zugnummern (z. B. 1.)\n",
    "        moves = re.sub(r\"\\d+\\.\", \"\", moves)\n",
    "        # Reduziere Leerzeichen\n",
    "        moves = re.sub(r\"\\s+\", \" \", moves).strip()\n",
    "        # Setze Zugnummern korrekt neu\n",
    "        moves_numbered = reinstate_move_numbers(moves)\n",
    "\n",
    "        cleaned_game = f\"{header}\\n\\n{moves_numbered}\"\n",
    "        cleaned_games.append(cleaned_game)\n",
    "\n",
    "    return \"\\n\\n\".join(cleaned_games)\n",
    "\n",
    "# Datei laden\n",
    "with open(\"/workspaces/Chess_Stockfish/lichess_sample_10000 (1).pgn\", \"r\", encoding=\"utf-8\") as file:\n",
    "    raw_pgn = file.read()\n",
    "\n",
    "# Bereinigen und umformatieren\n",
    "cleaned_pgn = clean_and_reformat_pgn(raw_pgn)\n",
    "\n",
    "# In Datei schreiben\n",
    "with open(\"/workspaces/Chess_Stockfish/cleaned.pgn\", \"w\", encoding=\"utf-8\") as out_file:\n",
    "    out_file.write(cleaned_pgn)\n",
    "\n"
   ]
  },
  {
   "cell_type": "markdown",
   "id": "aab45463",
   "metadata": {},
   "source": [
    "Reduce empty lines in pgn"
   ]
  },
  {
   "cell_type": "code",
   "execution_count": 50,
   "id": "4aefb4ce",
   "metadata": {},
   "outputs": [],
   "source": [
    "def reduce_blank_lines_in_pgn(input_path, output_path):\n",
    "    with open(input_path, \"r\", encoding=\"utf-8\") as infile:\n",
    "        lines = infile.readlines()\n",
    "\n",
    "    cleaned_lines = []\n",
    "    current_game = []\n",
    "    blank_line_count = 0\n",
    "\n",
    "    def flush_game(game_lines):\n",
    "        \"\"\"Schreibe ein einzelnes Spiel mit genau einer Leerzeile nach dem Header.\"\"\"\n",
    "        cleaned = []\n",
    "        header_ended = False\n",
    "        blank_line_count = 0\n",
    "        for line in game_lines:\n",
    "            stripped = line.strip()\n",
    "            if stripped.startswith(\"[\"):  \n",
    "                cleaned.append(line)\n",
    "                header_ended = False\n",
    "                blank_line_count = 0\n",
    "            elif stripped == \"\":\n",
    "                if not header_ended:\n",
    "                    if blank_line_count == 0:\n",
    "                        cleaned.append(\"\\n\")\n",
    "                    blank_line_count += 1\n",
    "                    header_ended = True\n",
    "            else:\n",
    "                cleaned.append(line)\n",
    "                blank_line_count = 0\n",
    "        cleaned.append(\"\\n\")  # <== Spiel-Ende: genau eine Leerzeile nach dem Spiel\n",
    "        return cleaned\n",
    "\n",
    "    for line in lines:\n",
    "        if line.strip() == \"\" and not current_game:\n",
    "            # Leere Zeile vor einem Spielanfang -> überspringen\n",
    "            continue\n",
    "        current_game.append(line)\n",
    "        if line.strip().startswith(\"[Event\") and len(current_game) > 1:\n",
    "            # Neues Spiel beginnt -> vorheriges Spiel verarbeiten\n",
    "            cleaned_lines.extend(flush_game(current_game[:-1]))\n",
    "            current_game = [line]\n",
    "\n",
    "    if current_game:\n",
    "        cleaned_lines.extend(flush_game(current_game))\n",
    "\n",
    "    with open(output_path, \"w\", encoding=\"utf-8\") as outfile:\n",
    "        outfile.writelines(cleaned_lines)\n",
    "reduce_blank_lines_in_pgn(\"/workspaces/Chess_Stockfish/cleaned.pgn\", \"cleaned_one_line.pgn\")"
   ]
  },
  {
   "cell_type": "markdown",
   "id": "8b19b433",
   "metadata": {},
   "source": [
    "Funktion to analyse every game "
   ]
  },
  {
   "cell_type": "code",
   "execution_count": 51,
   "id": "08d3f760",
   "metadata": {},
   "outputs": [],
   "source": [
    "import chess\n",
    "import chess.pgn\n",
    "\n",
    "#Elo scales, 1978 FIDE \n",
    "def get_elo_bucket(elo):\n",
    "    if elo < 1000:\n",
    "        return \"beginner\" #Novices \n",
    "    elif elo < 1400:\n",
    "        return \"intermediate\" #Class E and D\n",
    "    elif elo < 1800:\n",
    "        return \"club_player\" #Class C and B\n",
    "    elif elo < 2200:\n",
    "        return \"advanced\" #Class A and Experts\n",
    "    else:\n",
    "        return \"expert\" #Masters\n",
    "    \n",
    "def result_to_label(result, player):\n",
    "    if result == \"1-0\":\n",
    "        return \"win\" if player == \"white\" else \"loss\"\n",
    "    elif result == \"0-1\":\n",
    "        return \"win\" if player == \"black\" else \"loss\"\n",
    "    elif result == \"1/2-1/2\":\n",
    "        return \"draw\"\n",
    "    else:\n",
    "        return \"unknown\"    \n",
    "\n",
    "def analyze_game(game, engine, game_nr, depth=15):\n",
    "    board = game.board()\n",
    "    data = []\n",
    "\n",
    "    white_elo = int(game.headers.get(\"WhiteElo\", 0))\n",
    "    black_elo = int(game.headers.get(\"BlackElo\", 0))\n",
    "    result = game.headers.get(\"Result\", \"*\")  #\"1-0\", \"0-1\", \"1/2-1/2\"\n",
    "\n",
    "    for ply, move in enumerate(game.mainline_moves()):\n",
    "        san_move = board.san(move)\n",
    "\n",
    "        # Bewertung vor dem Zug\n",
    "        info_before = engine.analyse(board, chess.engine.Limit(depth=depth))\n",
    "        score_before = info_before[\"score\"].white().score(mate_score=10000) if not info_before[\"score\"].is_mate() else 10000\n",
    "\n",
    "        # Engine-Zug berechnen\n",
    "        best_move = info_before[\"pv\"][0] if \"pv\" in info_before else None\n",
    "        if best_move:\n",
    "            best_board = board.copy()\n",
    "            best_board.push(best_move)\n",
    "            info_best = engine.analyse(best_board, chess.engine.Limit(depth=depth))\n",
    "            score_best = info_best[\"score\"].white().score(mate_score=10000) if not info_best[\"score\"].is_mate() else 10000\n",
    "        else:\n",
    "            score_best = None\n",
    "\n",
    "        # Tatsächlichen Zug spielen\n",
    "        board.push(move)\n",
    "        info_after = engine.analyse(board, chess.engine.Limit(depth=depth))\n",
    "        score_after = info_after[\"score\"].white().score(mate_score=10000) if not info_after[\"score\"].is_mate() else 10000\n",
    "\n",
    "        # Bewertung\n",
    "        if ply % 2 == 0:\n",
    "            player = \"white\"\n",
    "            elo_level = get_elo_bucket(white_elo)\n",
    "            move_quality = score_after - score_best if score_best is not None else None\n",
    "        else:\n",
    "            player = \"black\"\n",
    "            elo_level = get_elo_bucket(black_elo)\n",
    "            move_quality = score_best - score_after if score_best is not None else None\n",
    "\n",
    "        total_plies = len(list(game.mainline_moves()))\n",
    "        if ply < total_plies * 0.3:\n",
    "            phase = 'opening'\n",
    "        elif ply < total_plies * 0.7:\n",
    "            phase = 'middlegame'\n",
    "        else:\n",
    "            phase = 'endgame'\n",
    "\n",
    "        data.append({\n",
    "            \"game_nr\": game_nr,\n",
    "            \"ply\": ply,\n",
    "            \"move\": san_move,\n",
    "            \"move_quality\": move_quality,\n",
    "            \"player\": player,\n",
    "            \"elo_level\": elo_level,\n",
    "            \"phase\": phase,\n",
    "            \"result\": result_to_label(result, player)\n",
    "        })\n",
    "\n",
    "    return data\n"
   ]
  },
  {
   "cell_type": "code",
   "execution_count": null,
   "id": "7b894f55",
   "metadata": {},
   "outputs": [
    {
     "name": "stdout",
     "output_type": "stream",
     "text": [
      "Analysiere Spiel 1001...\n"
     ]
    },
    {
     "name": "stdout",
     "output_type": "stream",
     "text": [
      "Spiel 1001 gespeichert.\n",
      "Analysiere Spiel 1002...\n",
      "Spiel 1002 gespeichert.\n",
      "Analysiere Spiel 1003...\n",
      "Spiel 1003 gespeichert.\n",
      "Analysiere Spiel 1004...\n",
      "Spiel 1004 gespeichert.\n",
      "Analysiere Spiel 1005...\n",
      "Spiel 1005 gespeichert.\n",
      "Analysiere Spiel 1006...\n",
      "Spiel 1006 gespeichert.\n",
      "Analysiere Spiel 1007...\n"
     ]
    }
   ],
   "source": [
    "import json\n",
    "import os\n",
    "import chess\n",
    "import chess.engine\n",
    "import chess.pgn\n",
    "from io import StringIO\n",
    "\n",
    "DATA_FILE_2 = \"chess_data.json\"\n",
    "\n",
    "def save_data(new_data):\n",
    "    if os.path.exists(DATA_FILE_2):\n",
    "        with open(DATA_FILE_2, \"r\") as f:\n",
    "            existing_data = json.load(f)\n",
    "    else:\n",
    "        existing_data = []\n",
    "\n",
    "    existing_data.extend(new_data)\n",
    "\n",
    "    with open(DATA_FILE_2, \"w\") as f:\n",
    "        json.dump(existing_data, f, indent=2)\n",
    "\n",
    "def load_data():\n",
    "    if os.path.exists(DATA_FILE_2):\n",
    "        with open(DATA_FILE_2, \"r\") as f:\n",
    "            return json.load(f)\n",
    "    else:\n",
    "        return []\n",
    "\n",
    "# === Hauptprogramm ===\n",
    "PGN_FILE = \"/workspaces/Chess_Stockfish/cleaned_one_line.pgn\"\n",
    "engine = chess.engine.SimpleEngine.popen_uci(\"/usr/games/stockfish\")\n",
    "\n",
    "MAX_GAMES = 1000\n",
    "game_count = 0\n",
    "\n",
    "# Bestehende Daten laden\n",
    "all_data = load_data()\n",
    "\n",
    "# Letzter gespeicherter game_nr ermitteln\n",
    "if all_data:\n",
    "    last_game_nr = max(d[\"game_nr\"] for d in all_data)\n",
    "else:\n",
    "    last_game_nr = 0\n",
    "\n",
    "with open(PGN_FILE) as pgn:\n",
    "    while game_count < MAX_GAMES:\n",
    "        game = chess.pgn.read_game(pgn)\n",
    "        if game is None:\n",
    "            break\n",
    "\n",
    "        game_count += 1\n",
    "        current_game_nr = last_game_nr + game_count\n",
    "        print(f\"Analysiere Spiel {current_game_nr}...\")\n",
    "\n",
    "        try:\n",
    "            new_game_data = analyze_game(game, engine, game_nr=current_game_nr)\n",
    "\n",
    "            # Erwartete Anzahl Züge (plies) im Spiel\n",
    "            expected_plies = len(list(game.mainline_moves()))\n",
    "\n",
    "            # Nur speichern, wenn das Spiel komplett analysiert wurde\n",
    "            if len(new_game_data) == expected_plies:\n",
    "                save_data(new_game_data)\n",
    "                print(f\"Spiel {current_game_nr} gespeichert.\")\n",
    "            else:\n",
    "                print(f\"Spiel {current_game_nr} NICHT gespeichert – Analyse unvollständig.\")\n",
    "        except KeyboardInterrupt:\n",
    "            print(\"Analyse abgebrochen. Spiel wird nicht gespeichert.\")\n",
    "            break\n",
    "\n",
    "engine.quit()\n"
   ]
  },
  {
   "cell_type": "markdown",
   "id": "5785f6d2",
   "metadata": {},
   "source": [
    "Game Opening Function"
   ]
  },
  {
   "cell_type": "code",
   "execution_count": 2,
   "id": "f643ea69",
   "metadata": {},
   "outputs": [],
   "source": [
    "#Opening\n",
    "import chess\n",
    "import chess.pgn\n",
    "\n",
    "#Elo scales, 1978 FIDE \n",
    "def get_elo_bucket(elo):\n",
    "    if elo < 1000:\n",
    "        return \"beginner\" #Novices \n",
    "    elif elo < 1400:\n",
    "        return \"intermediate\" #Class E and D\n",
    "    elif elo < 1800:\n",
    "        return \"club_player\" #Class C and B\n",
    "    elif elo < 2200:\n",
    "        return \"advanced\" #Class A and Experts\n",
    "    else:\n",
    "        return \"expert\" #Masters\n",
    "    \n",
    "def result_to_label(result, player):\n",
    "    if result == \"1-0\":\n",
    "        return \"win\" if player == \"white\" else \"loss\"\n",
    "    elif result == \"0-1\":\n",
    "        return \"win\" if player == \"black\" else \"loss\"\n",
    "    elif result == \"1/2-1/2\":\n",
    "        return \"draw\"\n",
    "    else:\n",
    "        return \"unknown\"    \n",
    "\n",
    "\n",
    "def analyze_opening(game, engine, game_nr, depth=20):\n",
    "    board = game.board()\n",
    "    moves = []\n",
    "\n",
    "    white_elo = int(game.headers.get(\"WhiteElo\", 0))\n",
    "    black_elo = int(game.headers.get(\"BlackElo\", 0))\n",
    "    result = game.headers.get(\"Result\", \"*\")\n",
    "\n",
    "    total_plies = len(list(game.mainline_moves()))\n",
    "    opening_limit = int(total_plies * 0.3)\n",
    "    sequence = []\n",
    "    engine_sequence = []\n",
    "\n",
    "    for ply, move in enumerate(game.mainline_moves()):\n",
    "        if ply >= opening_limit:\n",
    "            break\n",
    "\n",
    "        san_move = board.san(move)\n",
    "        sequence.append(san_move)\n",
    "\n",
    "        # Bewertung vor dem Zug\n",
    "        info_before = engine.analyse(board, chess.engine.Limit(depth=depth))\n",
    "        best_move = info_before[\"pv\"][0] if \"pv\" in info_before else None\n",
    "\n",
    "        if best_move:\n",
    "            best_board = board.copy()\n",
    "            best_board.push(best_move)\n",
    "            info_best = engine.analyse(best_board, chess.engine.Limit(depth=depth))\n",
    "            score_best = info_best[\"score\"].white().score(mate_score=10000) if not info_best[\"score\"].is_mate() else 10000\n",
    "            engine_sequence.append(board.san(best_move))\n",
    "        else:\n",
    "            score_best = None\n",
    "            engine_sequence.append(None)\n",
    "\n",
    "        board.push(move)\n",
    "        info_after = engine.analyse(board, chess.engine.Limit(depth=depth))\n",
    "        score_after = info_after[\"score\"].white().score(mate_score=10000) if not info_after[\"score\"].is_mate() else 10000\n",
    "        \n",
    "        if best_move == move:\n",
    "            move_quality = 0\n",
    "            if ply % 2 == 0:\n",
    "                player = \"white\"\n",
    "            else:\n",
    "                player = \"black\"   \n",
    "        elif ply % 2 == 0:\n",
    "            player = \"white\"\n",
    "            move_quality = score_after - score_best if score_best is not None else None\n",
    "        else:\n",
    "            player = \"black\"\n",
    "            move_quality = score_best - score_after if score_best is not None else None\n",
    "\n",
    "        moves.append({\n",
    "            \"ply\": ply,\n",
    "            \"move\": san_move,\n",
    "            \"move_quality\": move_quality,\n",
    "            \"player\": player\n",
    "        })\n",
    "\n",
    "    return {\n",
    "        \"game_nr\": game_nr,\n",
    "        \"white_elo\": white_elo,\n",
    "        \"black_elo\": black_elo,\n",
    "        \"elo_level_white\": get_elo_bucket(white_elo),\n",
    "        \"elo_level_black\": get_elo_bucket(black_elo),\n",
    "        \"result\": result,\n",
    "        \"human_opening_sequence\": \" \".join(sequence),\n",
    "        \"engine_opening_sequence\": \" \".join(engine_sequence),\n",
    "        \"moves\": moves\n",
    "    }\n",
    "\n"
   ]
  },
  {
   "cell_type": "code",
   "execution_count": 34,
   "id": "cfcc490e",
   "metadata": {},
   "outputs": [
    {
     "name": "stdout",
     "output_type": "stream",
     "text": [
      "Analysiere Spiel 342...\n",
      "Spiel 342 gespeichert.\n",
      "Analysiere Spiel 343...\n",
      "Spiel 343 gespeichert.\n",
      "Analysiere Spiel 344...\n",
      "Spiel 344 gespeichert.\n",
      "Analysiere Spiel 345...\n",
      "Spiel 345 gespeichert.\n",
      "Analysiere Spiel 346...\n",
      "Spiel 346 gespeichert.\n",
      "Analysiere Spiel 347...\n",
      "Spiel 347 gespeichert.\n",
      "Analysiere Spiel 348...\n",
      "Spiel 348 gespeichert.\n",
      "Analysiere Spiel 349...\n",
      "Spiel 349 gespeichert.\n",
      "Analysiere Spiel 350...\n",
      "Spiel 350 gespeichert.\n",
      "Analysiere Spiel 351...\n",
      "Spiel 351 gespeichert.\n",
      "Analysiere Spiel 352...\n",
      "Spiel 352 gespeichert.\n",
      "Analysiere Spiel 353...\n",
      "Spiel 353 gespeichert.\n",
      "Analysiere Spiel 354...\n",
      "Spiel 354 gespeichert.\n",
      "Analysiere Spiel 355...\n",
      "Spiel 355 gespeichert.\n",
      "Analysiere Spiel 356...\n",
      "Spiel 356 gespeichert.\n",
      "Analysiere Spiel 357...\n",
      "Spiel 357 gespeichert.\n",
      "Analysiere Spiel 358...\n",
      "Spiel 358 gespeichert.\n",
      "Analysiere Spiel 359...\n",
      "Spiel 359 gespeichert.\n",
      "Analysiere Spiel 360...\n",
      "Spiel 360 gespeichert.\n",
      "Analysiere Spiel 361...\n",
      "Spiel 361 gespeichert.\n",
      "Analysiere Spiel 362...\n",
      "Spiel 362 gespeichert.\n",
      "Analysiere Spiel 363...\n",
      "Spiel 363 gespeichert.\n",
      "Analysiere Spiel 364...\n",
      "Spiel 364 gespeichert.\n",
      "Analysiere Spiel 365...\n",
      "Spiel 365 gespeichert.\n",
      "Analysiere Spiel 366...\n",
      "Spiel 366 gespeichert.\n",
      "Analysiere Spiel 367...\n",
      "Spiel 367 gespeichert.\n",
      "Analysiere Spiel 368...\n",
      "Spiel 368 gespeichert.\n",
      "Analysiere Spiel 369...\n",
      "Spiel 369 gespeichert.\n",
      "Analysiere Spiel 370...\n",
      "Spiel 370 gespeichert.\n",
      "Analysiere Spiel 371...\n",
      "Spiel 371 gespeichert.\n",
      "Analysiere Spiel 372...\n",
      "Analyse abgebrochen. Spiel wird nicht gespeichert.\n"
     ]
    }
   ],
   "source": [
    "import json\n",
    "import os\n",
    "import chess\n",
    "import chess.engine\n",
    "import chess.pgn\n",
    "from io import StringIO\n",
    "\n",
    "DATA_FILE = \"chess_data_opening.json\"\n",
    "\n",
    "def save_data(new_data):\n",
    "    if os.path.exists(DATA_FILE):\n",
    "        with open(DATA_FILE, \"r\") as f:\n",
    "            existing_data = json.load(f)\n",
    "    else:\n",
    "        existing_data = []\n",
    "\n",
    "    existing_data.extend(new_data)\n",
    "\n",
    "    with open(DATA_FILE, \"w\") as f:\n",
    "        json.dump(existing_data, f, indent=2)\n",
    "\n",
    "def load_data():\n",
    "    if os.path.exists(DATA_FILE):\n",
    "        with open(DATA_FILE, \"r\") as f:\n",
    "            return json.load(f)\n",
    "    else:\n",
    "        return []\n",
    "\n",
    "# === Hauptprogramm ===\n",
    "PGN_FILE = \"/workspaces/Chess_Stockfish/cleaned_one_line.pgn\"\n",
    "engine = chess.engine.SimpleEngine.popen_uci(\"/usr/games/stockfish\")\n",
    "\n",
    "MAX_GAMES = 10000\n",
    "game_count = 0\n",
    "\n",
    "# Bestehende Daten laden\n",
    "all_data = load_data()\n",
    "\n",
    "# Letzter gespeicherter game_nr ermitteln\n",
    "if all_data:\n",
    "    last_game_nr = max(d[\"game_nr\"] for d in all_data)\n",
    "else:\n",
    "    last_game_nr = 0\n",
    "#\n",
    "current_game_nr = last_game_nr\n",
    "#\n",
    "\n",
    "with open(PGN_FILE) as pgn:\n",
    "#\n",
    "    for _ in range(current_game_nr):\n",
    "        chess.pgn.read_game(pgn)\n",
    "\n",
    "#\n",
    "\n",
    "    while game_count < MAX_GAMES:\n",
    "        game = chess.pgn.read_game(pgn)\n",
    "        if game is None:\n",
    "            break\n",
    "\n",
    "        game_count += 1\n",
    "        current_game_nr = last_game_nr + game_count\n",
    "        print(f\"Analysiere Spiel {current_game_nr}...\")\n",
    "\n",
    "        try:\n",
    "            new_game_data = analyze_opening(game, engine, game_nr=current_game_nr)\n",
    "\n",
    "            # Expected plies in opening phase (like in analyze_opening)\n",
    "            total_plies = len(list(game.mainline_moves()))\n",
    "            opening_limit = int(total_plies * 0.3)\n",
    "\n",
    "            # Check if all opening moves were analyzed (length of moves list inside new_game_data)\n",
    "            if len(new_game_data[\"moves\"]) == opening_limit:\n",
    "                save_data([new_game_data])  # Save as a list of one item\n",
    "                print(f\"Spiel {current_game_nr} gespeichert.\")\n",
    "            else:\n",
    "                print(f\"Spiel {current_game_nr} NICHT gespeichert – Analyse unvollständig.\")\n",
    "        except KeyboardInterrupt:\n",
    "            print(\"Analyse abgebrochen. Spiel wird nicht gespeichert.\")\n",
    "            break\n",
    "\n",
    "engine.quit()\n"
   ]
  },
  {
   "cell_type": "code",
   "execution_count": 5,
   "id": "377f526a",
   "metadata": {},
   "outputs": [],
   "source": [
    "import json\n",
    "\n",
    "DATA_FILE_2 = \"chess_data.json\"\n",
    "\n",
    "# Load the data\n",
    "with open(DATA_FILE_2, \"r\") as f2:\n",
    "    all_data = json.load(f2)"
   ]
  },
  {
   "cell_type": "markdown",
   "id": "c570a477",
   "metadata": {},
   "source": [
    "•Opening Theory Compliance – Do players follow book openings correctly, or do they deviate early?•Strategic Conformance – How well do players adhere to established positional and tactical guidelines?\n",
    "•Endgame Fundamentals – Are winning endgame techniques executed correctly, or do deviations impact results?•Skill-Based Differences – Do higher-rated players exhibit greater conformance, and how does deviation affect performance"
   ]
  },
  {
   "cell_type": "markdown",
   "id": "b1d8f7be",
   "metadata": {},
   "source": [
    "opening phase already analyzed avg move_quality\n",
    "\n",
    "percentage of different elo levels beeing black and white\n",
    "\n",
    "percentage of players range certain deviations eg difference more than 100, 100-90...: how does avg move_quality affect win/loss regardless of elo_level\n",
    "\n",
    "compare all move_qualities of div elo levels, dif phases and whole game to percentage games won by different elo levels\n",
    "\n",
    "Because of stockfish the later the game phase the better move_quality??"
   ]
  },
  {
   "cell_type": "markdown",
   "id": "f36a0175",
   "metadata": {},
   "source": [
    "Whole game "
   ]
  },
  {
   "cell_type": "code",
   "execution_count": 29,
   "id": "87895801",
   "metadata": {},
   "outputs": [
    {
     "name": "stdout",
     "output_type": "stream",
     "text": [
      "Average move_quality whole game all elo levels: -62.39818016115266\n",
      "Average move_quality whole game all elo levels but only white players: -39.97016082711085\n",
      "Average move_quality whole game all elo levels but only black players: -85.16157052496575\n"
     ]
    }
   ],
   "source": [
    "move_qualities = [entry[\"move_quality\"] for entry in all_data if entry[\"move_quality\"] is not None]\n",
    "avg_move_quality = sum(move_qualities) / len(move_qualities)\n",
    "print(f\"Average move_quality whole game all elo levels: {avg_move_quality}\")\n",
    "\n",
    "move_qualities_white = [entry[\"move_quality\"] for entry in all_data if entry[\"move_quality\"] is not None and entry[\"player\"] == 'white']\n",
    "avg_move_quality_white = sum(move_qualities_white) / len(move_qualities_white)\n",
    "print(f\"Average move_quality whole game all elo levels but only white players: {avg_move_quality_white}\")\n",
    "\n",
    "move_qualities_black = [entry[\"move_quality\"] for entry in all_data if entry[\"move_quality\"] is not None and entry[\"player\"] == 'black']\n",
    "avg_move_quality_black = sum(move_qualities_black) / len(move_qualities_black)\n",
    "print(f\"Average move_quality whole game all elo levels but only black players: {avg_move_quality_black}\")"
   ]
  },
  {
   "cell_type": "code",
   "execution_count": 12,
   "id": "b07cb39e",
   "metadata": {},
   "outputs": [
    {
     "name": "stdout",
     "output_type": "stream",
     "text": [
      "Percentage of players with elo_level beginner being player white: 0.5037037037037037\n",
      "Percentage of players with elo_level intermediate being player white: 0.5040214477211796\n",
      "Percentage of players with elo_level club_player being player white: 0.4931506849315068\n",
      "Percentage of players with elo_level advanced being player white: 0.5053272450532724\n",
      "Percentage of players with elo_level expert being player white: 0.5185185185185185\n"
     ]
    }
   ],
   "source": [
    "total_white = len([entry[\"game_nr\"] for entry in all_data if entry[\"ply\"] == 0])\n",
    "elo_levels = [\"beginner\", \"intermediate\", \"club_player\", \"advanced\", \"expert\"]\n",
    "for level in elo_levels:\n",
    "    number_games_elo_level_white = len([entry[\"game_nr\"] for entry in all_data if entry[\"elo_level\"] == level and entry[\"ply\"] == 0])\n",
    "    number_games_elo_level =  len([entry[\"game_nr\"] for entry in all_data if entry[\"elo_level\"] == level and entry[\"ply\"] < 2])\n",
    "    percentage_elo_level_white = number_games_elo_level_white / number_games_elo_level\n",
    "    print(f\"Percentage of players with elo_level {level} being player white: {percentage_elo_level_white}\")    "
   ]
  },
  {
   "cell_type": "markdown",
   "id": "b756d352",
   "metadata": {},
   "source": [
    "Percentage of games won by players with different move quality in their first turn"
   ]
  },
  {
   "cell_type": "code",
   "execution_count": 13,
   "id": "4f45d4be",
   "metadata": {},
   "outputs": [
    {
     "name": "stdout",
     "output_type": "stream",
     "text": [
      "Number of games won all elo levels with move_quality first turn over -100: 958\n",
      "Percentage of games won all elo levels with move_quality first turn over -100: 0.4823766364551863\n",
      "\n",
      "Number of games won all elo levels with move_quality first turn over -75: 920\n",
      "Percentage of games won all elo levels with move_quality first turn over -75: 0.48092002090956615\n",
      "\n",
      "Number of games won all elo levels with move_quality first turn over -50: 791\n",
      "Percentage of games won all elo levels with move_quality first turn over -50: 0.47393648891551826\n",
      "\n",
      "Number of games won all elo levels with move_quality first turn over -25: 566\n",
      "Percentage of games won all elo levels with move_quality first turn over -25: 0.4502784407319014\n",
      "\n",
      "Number of games won all elo levels with move_quality first turn over -10: 396\n",
      "Percentage of games won all elo levels with move_quality first turn over -10: 0.47653429602888087\n",
      "\n"
     ]
    }
   ],
   "source": [
    "thresholds = [-100, -75, -50, -25, -10]\n",
    "for threshold in thresholds:\n",
    "    number_games_win = len([\n",
    "        entry[\"game_nr\"] for entry in all_data\n",
    "        if entry['result'] == 'win' and entry[\"ply\"] < 2 and entry['move_quality'] > threshold\n",
    "    ])\n",
    "    total_games = len([\n",
    "        entry[\"game_nr\"] for entry in all_data\n",
    "        if entry[\"ply\"] < 2 and entry['move_quality'] > threshold\n",
    "    ])\n",
    "    percentage_games_won = number_games_win / total_games if total_games > 0 else 0\n",
    "    print(f\"Number of games won all elo levels with move_quality first turn over {threshold}: {number_games_win}\")\n",
    "    print(f\"Percentage of games won all elo levels with move_quality first turn over {threshold}: {percentage_games_won}\")\n",
    "    print('')\n"
   ]
  },
  {
   "cell_type": "markdown",
   "id": "7c1c9050",
   "metadata": {},
   "source": [
    "\n",
    "Average move_qualities of players with different elo levels for all phases of the game"
   ]
  },
  {
   "cell_type": "code",
   "execution_count": 14,
   "id": "4c2a2ed4",
   "metadata": {},
   "outputs": [
    {
     "name": "stdout",
     "output_type": "stream",
     "text": [
      "Average move_quality whole game beginner: -3.4766780432309443\n",
      "Average move_quality whole game intermediate: -28.022786121180737\n",
      "Average move_quality whole game club_player: -85.4731924741782\n",
      "Average move_quality whole game advanced: -63.99712368168744\n",
      "Average move_quality whole game expert: -92.48602106969206\n"
     ]
    }
   ],
   "source": [
    "elo_levels = [\"beginner\", \"intermediate\", \"club_player\", \"advanced\", \"expert\"]\n",
    "\n",
    "for level in elo_levels:\n",
    "    move_qualities = [ entry[\"move_quality\"] for entry in all_data\n",
    "        if entry[\"move_quality\"] is not None and entry['elo_level'] == level\n",
    "    ]\n",
    "    avg_move_quality = sum(move_qualities) / len(move_qualities) if move_qualities else 0\n",
    "    print(f\"Average move_quality whole game {level}: {avg_move_quality}\")"
   ]
  },
  {
   "cell_type": "markdown",
   "id": "25da8bc1",
   "metadata": {},
   "source": [
    "Percentage of games won by players of different elo levels"
   ]
  },
  {
   "cell_type": "code",
   "execution_count": 27,
   "id": "10540f39",
   "metadata": {},
   "outputs": [
    {
     "ename": "KeyError",
     "evalue": "'ply'",
     "output_type": "error",
     "traceback": [
      "\u001b[31m---------------------------------------------------------------------------\u001b[39m",
      "\u001b[31mKeyError\u001b[39m                                  Traceback (most recent call last)",
      "\u001b[36mCell\u001b[39m\u001b[36m \u001b[39m\u001b[32mIn[27]\u001b[39m\u001b[32m, line 4\u001b[39m\n\u001b[32m      2\u001b[39m \u001b[38;5;66;03m#white\u001b[39;00m\n\u001b[32m      3\u001b[39m \u001b[38;5;28;01mfor\u001b[39;00m level \u001b[38;5;129;01min\u001b[39;00m elo_levels:\n\u001b[32m----> \u001b[39m\u001b[32m4\u001b[39m     games = {entry[\u001b[33m\"\u001b[39m\u001b[33mgame_nr\u001b[39m\u001b[33m\"\u001b[39m] \u001b[38;5;28;01mfor\u001b[39;00m entry \u001b[38;5;129;01min\u001b[39;00m all_data \u001b[38;5;28;01mif\u001b[39;00m \u001b[43mentry\u001b[49m\u001b[43m[\u001b[49m\u001b[33;43m\"\u001b[39;49m\u001b[33;43mply\u001b[39;49m\u001b[33;43m\"\u001b[39;49m\u001b[43m]\u001b[49m < \u001b[32m1\u001b[39m \u001b[38;5;129;01mand\u001b[39;00m entry[\u001b[33m\"\u001b[39m\u001b[33melo_level\u001b[39m\u001b[33m\"\u001b[39m] == level}\n\u001b[32m      5\u001b[39m     wins = {entry[\u001b[33m\"\u001b[39m\u001b[33mgame_nr\u001b[39m\u001b[33m\"\u001b[39m] \u001b[38;5;28;01mfor\u001b[39;00m entry \u001b[38;5;129;01min\u001b[39;00m all_data \u001b[38;5;28;01mif\u001b[39;00m entry[\u001b[33m\"\u001b[39m\u001b[33mply\u001b[39m\u001b[33m\"\u001b[39m] < \u001b[32m1\u001b[39m \u001b[38;5;129;01mand\u001b[39;00m entry[\u001b[33m\"\u001b[39m\u001b[33melo_level\u001b[39m\u001b[33m\"\u001b[39m] == level \u001b[38;5;129;01mand\u001b[39;00m entry[\u001b[33m'\u001b[39m\u001b[33mresult\u001b[39m\u001b[33m'\u001b[39m] == \u001b[33m'\u001b[39m\u001b[33mwin\u001b[39m\u001b[33m'\u001b[39m}\n\u001b[32m      7\u001b[39m     num_games = \u001b[38;5;28mlen\u001b[39m(games)\n",
      "\u001b[31mKeyError\u001b[39m: 'ply'"
     ]
    }
   ],
   "source": [
    "elo_levels = ['beginner', 'intermediate', 'club_player', 'advanced', 'expert']\n",
    "#white\n",
    "for level in elo_levels:\n",
    "    games = {entry[\"game_nr\"] for entry in all_data if entry[\"ply\"] < 1 and entry[\"elo_level\"] == level}\n",
    "    wins = {entry[\"game_nr\"] for entry in all_data if entry[\"ply\"] < 1 and entry[\"elo_level\"] == level and entry['result'] == 'win'}\n",
    "    \n",
    "    num_games = len(games)\n",
    "    num_wins = len(wins)\n",
    "    percentage = num_wins / num_games if num_games > 0 else 0\n",
    "\n",
    "    print(f\"Number of games won {level}: {num_wins}\")\n",
    "    print(f\"Percentage of games won {level}: {percentage}\")\n",
    "    print('')\n"
   ]
  },
  {
   "cell_type": "markdown",
   "id": "9256eb24",
   "metadata": {},
   "source": [
    "Phase Opening"
   ]
  },
  {
   "cell_type": "code",
   "execution_count": 16,
   "id": "79d4d55e",
   "metadata": {},
   "outputs": [
    {
     "name": "stdout",
     "output_type": "stream",
     "text": [
      "Average move_quality opening all elo levels: -46.518992120039634\n"
     ]
    }
   ],
   "source": [
    "move_qualities_opening = [entry[\"move_quality\"] for entry in all_data if entry[\"move_quality\"] is not None and entry[\"phase\"] == 'opening']\n",
    "avg_move_quality_opening = sum(move_qualities_opening) / len(move_qualities_opening)\n",
    "print(f\"Average move_quality opening all elo levels: {avg_move_quality_opening}\")"
   ]
  },
  {
   "cell_type": "code",
   "execution_count": 17,
   "id": "8ce4a155",
   "metadata": {},
   "outputs": [
    {
     "name": "stdout",
     "output_type": "stream",
     "text": [
      "Average move_quality opening beginner: -55.858823529411765\n",
      "Average move_quality opening intermediate: -44.457758412006775\n",
      "Average move_quality opening club_player: -45.939876957494405\n",
      "Average move_quality opening advanced: -47.36063708759954\n",
      "Average move_quality opening expert: -42.590250329380765\n"
     ]
    }
   ],
   "source": [
    "elo_levels = ['beginner', 'intermediate', 'club_player', 'advanced', 'expert']\n",
    "\n",
    "for level in elo_levels:\n",
    "    move_qualities_opening = [\n",
    "        entry[\"move_quality\"]\n",
    "        for entry in all_data\n",
    "        if entry[\"move_quality\"] is not None and\n",
    "           entry[\"elo_level\"] == level and\n",
    "           entry[\"phase\"] == \"opening\"\n",
    "    ]\n",
    "\n",
    "    if move_qualities_opening:  # schützt vor Division durch 0\n",
    "        avg_move_quality = sum(move_qualities_opening) / len(move_qualities_opening)\n",
    "        print(f\"Average move_quality opening {level}: {avg_move_quality}\")\n",
    "    else:\n",
    "        print(f\"No data for opening phase in elo level {level}.\")"
   ]
  },
  {
   "cell_type": "markdown",
   "id": "72854782",
   "metadata": {},
   "source": [
    "Phase Middlegame"
   ]
  },
  {
   "cell_type": "code",
   "execution_count": 18,
   "id": "b42c9011",
   "metadata": {},
   "outputs": [
    {
     "name": "stdout",
     "output_type": "stream",
     "text": [
      "Average move_quality middlegame all elo levels: -94.85671976017626\n"
     ]
    }
   ],
   "source": [
    "move_qualities_middle = [entry[\"move_quality\"] for entry in all_data if entry[\"move_quality\"] is not None and entry[\"phase\"] == 'middlegame']\n",
    "avg_move_quality_middle = sum(move_qualities_middle) / len(move_qualities_middle)\n",
    "print(f\"Average move_quality middlegame all elo levels: {avg_move_quality_middle}\")"
   ]
  },
  {
   "cell_type": "code",
   "execution_count": 19,
   "id": "7c100fd3",
   "metadata": {},
   "outputs": [
    {
     "name": "stdout",
     "output_type": "stream",
     "text": [
      "Average move_quality middlegame beginner: -107.48307515777395\n",
      "Average move_quality middlegame intermediate: -113.97585698488759\n",
      "Average move_quality middlegame club_player: -88.68519508284339\n",
      "Average move_quality middlegame advanced: -87.92431491953023\n",
      "Average move_quality middlegame expert: -92.68937468225724\n"
     ]
    }
   ],
   "source": [
    "elo_levels = ['beginner', 'intermediate', 'club_player', 'advanced', 'expert']\n",
    "\n",
    "for level in elo_levels:\n",
    "    move_qualities_middlegame = [\n",
    "        entry[\"move_quality\"]\n",
    "        for entry in all_data\n",
    "        if entry[\"move_quality\"] is not None and\n",
    "           entry[\"elo_level\"] == level and\n",
    "           entry[\"phase\"] == \"middlegame\"\n",
    "    ]\n",
    "\n",
    "    if move_qualities_middlegame:  # schützt vor Division durch 0\n",
    "        avg_move_quality = sum(move_qualities_middlegame) / len(move_qualities_middlegame)\n",
    "        print(f\"Average move_quality middlegame {level}: {avg_move_quality}\")\n",
    "    else:\n",
    "        print(f\"No data for middlegame phase in elo level {level}.\")"
   ]
  },
  {
   "cell_type": "markdown",
   "id": "b30af02e",
   "metadata": {},
   "source": [
    "Endgame"
   ]
  },
  {
   "cell_type": "code",
   "execution_count": 20,
   "id": "93db30b9",
   "metadata": {},
   "outputs": [
    {
     "name": "stdout",
     "output_type": "stream",
     "text": [
      "Average move_quality endgame all elo levels: -34.6334765644293\n"
     ]
    }
   ],
   "source": [
    "move_qualities_endgame = [entry[\"move_quality\"] for entry in all_data if entry[\"move_quality\"] is not None and entry[\"phase\"] == 'endgame']\n",
    "avg_move_quality_endgame = sum(move_qualities_endgame) / len(move_qualities_endgame)\n",
    "print(f\"Average move_quality endgame all elo levels: {avg_move_quality_endgame}\")"
   ]
  },
  {
   "cell_type": "code",
   "execution_count": 25,
   "id": "a547c376",
   "metadata": {},
   "outputs": [
    {
     "name": "stdout",
     "output_type": "stream",
     "text": [
      "Average move_quality endgame beginner: 191.97445820433435\n",
      "Average move_quality endgame intermediate: 106.8949494949495\n",
      "Average move_quality endgame club_player: -122.4925285672429\n",
      "Average move_quality endgame advanced: -48.65823161655255\n",
      "Average move_quality endgame expert: -144.41006202618883\n"
     ]
    }
   ],
   "source": [
    "elo_levels = ['beginner', 'intermediate', 'club_player', 'advanced', 'expert']\n",
    "\n",
    "for level in elo_levels:\n",
    "    move_qualities_endgame = [\n",
    "        entry[\"move_quality\"]\n",
    "        for entry in all_data\n",
    "        if entry[\"move_quality\"] is not None and\n",
    "           entry[\"elo_level\"] == level and\n",
    "           entry[\"phase\"] == \"endgame\"\n",
    "    ]\n",
    "\n",
    "    if move_qualities_endgame:  # schützt vor Division durch 0\n",
    "        avg_move_quality = sum(move_qualities_endgame) / len(move_qualities_endgame)\n",
    "        print(f\"Average move_quality endgame {level}: {avg_move_quality}\")\n",
    "    else:\n",
    "        print(f\"No data for endgame phase in elo level {level}.\")"
   ]
  },
  {
   "cell_type": "markdown",
   "id": "b22132f5",
   "metadata": {},
   "source": [
    "Percentages of games won with different ranges of avg move_quality"
   ]
  },
  {
   "cell_type": "code",
   "execution_count": 24,
   "id": "ffbebaed",
   "metadata": {},
   "outputs": [
    {
     "name": "stdout",
     "output_type": "stream",
     "text": [
      "Percentage of games won with average move_quality - -10000 < move_quality =< -200: 0.9310344827586207 \n",
      "Percentage of games won with average move_quality - -200 < move_quality =< -150: 0.9298245614035088 \n",
      "Percentage of games won with average move_quality - -150 < move_quality =< -100: 0.9915730337078652 \n",
      "Percentage of games won with average move_quality - -100 < move_quality =< -50: 1.0082236842105263 \n",
      "Percentage of games won with average move_quality - -50 < move_quality =< 0: 1.0002042483660132 \n",
      "Percentage of games won with average move_quality - 0 < move_quality =< 10000: 1.0 \n"
     ]
    }
   ],
   "source": [
    "number = [-10000,-200, -150, -100, -50, 0]\n",
    "number2  = [-200, -150, -100, -50, 0, 10000]\n",
    "\n",
    "count = 0\n",
    "count2 = 0\n",
    "for n in range(6):\n",
    "    for game_nr in range(10001):\n",
    "        if game_nr == 0:\n",
    "            continue\n",
    "        move_qualities_dif_game_nr = [\n",
    "        entry[\"move_quality\"]\n",
    "        for entry in all_data\n",
    "        if entry[\"game_nr\"] == game_nr\n",
    "        and entry[\"player\"] == 'white'\n",
    "        and entry['result'] == 'win'\n",
    "        ]\n",
    "        #avg_move_quality_game_nr = None\n",
    "        if move_qualities_dif_game_nr:\n",
    "            avg_move_quality_game_nr = sum(move_qualities_dif_game_nr) / len(move_qualities_dif_game_nr)\n",
    "        if avg_move_quality_game_nr <= number2[n] and avg_move_quality_game_nr > number[n]:\n",
    "           count += 1\n",
    "\n",
    "        move_qualities_dif_game_nr = [\n",
    "        entry[\"move_quality\"]\n",
    "        for entry in all_data\n",
    "        if entry[\"game_nr\"] == game_nr\n",
    "        and entry[\"player\"] == 'white'\n",
    "        ]\n",
    "        #avg_move_quality_game_nr = None\n",
    "        if move_qualities_dif_game_nr:\n",
    "            avg_move_quality_game_nr = sum(move_qualities_dif_game_nr) / len(move_qualities_dif_game_nr)\n",
    "        if avg_move_quality_game_nr <= number2[n] and avg_move_quality_game_nr > number[n]:\n",
    "           count2 += 1\n",
    "    percentage = count/count2 if count2 > 0 else 0\n",
    "    print(f\"Percentage of games won with average move_quality - {number[n]} < move_quality =< {number2[n]}: {percentage} \")\n",
    "\n"
   ]
  },
  {
   "cell_type": "markdown",
   "id": "e624166c",
   "metadata": {},
   "source": [
    "•Opening Theory Compliance – Do players follow book openings correctly, or do they deviate early?\n",
    "\n",
    "•Strategic Conformance – How well do players adhere to established positional and tactical guidelines?\n",
    "\n",
    "•Endgame Fundamentals – Are winning endgame techniques executed correctly, or do deviations impact results?\n",
    "\n",
    "•Skill-Based Differences – Do higher-rated players exhibit greater conformance, and how does deviation affect performance"
   ]
  },
  {
   "cell_type": "code",
   "execution_count": 24,
   "id": "0b3f21e8",
   "metadata": {},
   "outputs": [],
   "source": [
    "import json\n",
    "\n",
    "DATA_FILE = \"chess_data_opening.json\"\n",
    "\n",
    "# Load the data\n",
    "with open(DATA_FILE, \"r\") as f:\n",
    "    data = json.load(f)"
   ]
  },
  {
   "cell_type": "code",
   "execution_count": 28,
   "id": "721279d2",
   "metadata": {},
   "outputs": [
    {
     "name": "stdout",
     "output_type": "stream",
     "text": [
      "Average move quality across all games: -38.30\n"
     ]
    }
   ],
   "source": [
    "# Initialize counters\n",
    "total_quality = 0\n",
    "count = 0\n",
    "# Iterate through games\n",
    "for game in data:\n",
    "    moves = game.get(\"moves\", [])\n",
    "    for move in moves:\n",
    "        mq = move.get(\"move_quality\")\n",
    "        if mq is not None:\n",
    "            total_quality += mq\n",
    "            count += 1\n",
    "\n",
    "# Calculate and print average\n",
    "if count > 0:\n",
    "    avg_quality = total_quality / count\n",
    "    print(f\"Average move quality across all games: {avg_quality:.2f}\")\n",
    "else:\n",
    "    print(\"No move_quality data found.\")"
   ]
  },
  {
   "cell_type": "code",
   "execution_count": 29,
   "id": "a41d296e",
   "metadata": {},
   "outputs": [
    {
     "name": "stdout",
     "output_type": "stream",
     "text": [
      "White - beginner: Average move quality = -59.60\n",
      "White - intermediate: Average move quality = -38.34\n",
      "White - club_player: Average move quality = -37.55\n",
      "White - advanced: Average move quality = -33.14\n",
      "White - expert: Average move quality = -40.21\n"
     ]
    }
   ],
   "source": [
    "elo_levels = [\"beginner\", \"intermediate\", \"club_player\", \"advanced\", \"expert\"]\n",
    "\n",
    "for level in elo_levels:\n",
    "    total_quality = 0\n",
    "    count = 0\n",
    "\n",
    "    # Iterate through games\n",
    "    for game in data:\n",
    "        if game.get(\"elo_level_white\") == level:\n",
    "            moves = game.get(\"moves\", [])\n",
    "            for move in moves:\n",
    "                if move.get(\"player\") == \"white\":\n",
    "                    mq = move.get(\"move_quality\")\n",
    "                    if mq is not None:\n",
    "                        total_quality += mq\n",
    "                        count += 1\n",
    "\n",
    "    # Calculate and print average\n",
    "    if count > 0:\n",
    "        avg_quality_white = total_quality / count\n",
    "        print(f\"White - {level}: Average move quality = {avg_quality_white:.2f}\")\n",
    "    else:\n",
    "        print(f\"White - {level}: No move_quality data found.\")\n"
   ]
  },
  {
   "cell_type": "code",
   "execution_count": 30,
   "id": "ba43974c",
   "metadata": {},
   "outputs": [
    {
     "name": "stdout",
     "output_type": "stream",
     "text": [
      "Black - beginner: Average move quality = -35.67\n",
      "Black - intermediate: Average move quality = -32.83\n",
      "Black - club_player: Average move quality = -40.60\n",
      "Black - advanced: Average move quality = -41.06\n",
      "Black - expert: Average move quality = -41.97\n"
     ]
    }
   ],
   "source": [
    "elo_levels = [\"beginner\", \"intermediate\", \"club_player\", \"advanced\", \"expert\"]\n",
    "\n",
    "for level in elo_levels:\n",
    "    total_quality = 0\n",
    "    count = 0\n",
    "\n",
    "    # Iterate through games\n",
    "    for game in data:\n",
    "        if game.get(\"elo_level_black\") == level:\n",
    "            moves = game.get(\"moves\", [])\n",
    "            for move in moves:\n",
    "                if move.get(\"player\") == \"black\":\n",
    "                    mq = move.get(\"move_quality\")\n",
    "                    if mq is not None:\n",
    "                        total_quality += mq\n",
    "                        count += 1\n",
    "\n",
    "    # Calculate and print average\n",
    "    if count > 0:\n",
    "        avg_quality = total_quality / count\n",
    "        print(f\"Black - {level}: Average move quality = {avg_quality:.2f}\")\n",
    "    else:\n",
    "        print(f\"Black - {level}: No move_quality data found.\")\n"
   ]
  },
  {
   "cell_type": "code",
   "execution_count": 31,
   "id": "188447a6",
   "metadata": {},
   "outputs": [
    {
     "name": "stdout",
     "output_type": "stream",
     "text": [
      "beginner: Combined average move quality (white + black) = -46.73\n",
      "intermediate: Combined average move quality (white + black) = -35.58\n",
      "club_player: Combined average move quality (white + black) = -39.03\n",
      "advanced: Combined average move quality (white + black) = -36.96\n",
      "expert: Combined average move quality (white + black) = -41.01\n"
     ]
    }
   ],
   "source": [
    "elo_levels = [\"beginner\", \"intermediate\", \"club_player\", \"advanced\", \"expert\"]\n",
    "\n",
    "for level in elo_levels:\n",
    "    total_quality = 0\n",
    "    count = 0\n",
    "\n",
    "    for game in data:\n",
    "        # For white player\n",
    "        if game.get(\"elo_level_white\") == level:\n",
    "            for move in game.get(\"moves\", []):\n",
    "                if move.get(\"player\") == \"white\":\n",
    "                    mq = move.get(\"move_quality\")\n",
    "                    if mq is not None:\n",
    "                        total_quality += mq\n",
    "                        count += 1\n",
    "\n",
    "        # For black player\n",
    "        if game.get(\"elo_level_black\") == level:\n",
    "            for move in game.get(\"moves\", []):\n",
    "                if move.get(\"player\") == \"black\":\n",
    "                    mq = move.get(\"move_quality\")\n",
    "                    if mq is not None:\n",
    "                        total_quality += mq\n",
    "                        count += 1\n",
    "\n",
    "    # Output combined result\n",
    "    if count > 0:\n",
    "        avg_quality = total_quality / count\n",
    "        print(f\"{level}: Combined average move quality (white + black) = {avg_quality:.2f}\")\n",
    "    else:\n",
    "        print(f\"{level}: No move_quality data found.\")\n"
   ]
  },
  {
   "cell_type": "code",
   "execution_count": 32,
   "id": "4ce2bc39",
   "metadata": {},
   "outputs": [
    {
     "name": "stdout",
     "output_type": "stream",
     "text": [
      "Number of games won by beginner: 18\n",
      "Percentage of games won by beginner: 46.15%\n",
      "\n",
      "Number of games won by intermediate: 63\n",
      "Percentage of games won by intermediate: 48.09%\n",
      "\n",
      "Number of games won by club_player: 124\n",
      "Percentage of games won by club_player: 49.21%\n",
      "\n",
      "Number of games won by advanced: 98\n",
      "Percentage of games won by advanced: 47.80%\n",
      "\n",
      "Number of games won by expert: 24\n",
      "Percentage of games won by expert: 43.64%\n",
      "\n"
     ]
    }
   ],
   "source": [
    "elo_levels = [\"beginner\", \"intermediate\", \"club_player\", \"advanced\", \"expert\"]\n",
    "\n",
    "# Initialize counters\n",
    "wins_by_level = {level: 0 for level in elo_levels}\n",
    "games_by_level = {level: 0 for level in elo_levels}\n",
    "\n",
    "for game in data:\n",
    "    result = game.get(\"result\")\n",
    "    white_level = game.get(\"elo_level_white\")\n",
    "    black_level = game.get(\"elo_level_black\")\n",
    "\n",
    "    # Count white player's result\n",
    "    if white_level in elo_levels:\n",
    "        games_by_level[white_level] += 1\n",
    "        if result == \"1-0\":  # white wins\n",
    "            wins_by_level[white_level] += 1\n",
    "\n",
    "    # Count black player's result\n",
    "    if black_level in elo_levels:\n",
    "        games_by_level[black_level] += 1\n",
    "        if result == \"0-1\":  # black wins\n",
    "            wins_by_level[black_level] += 1\n",
    "\n",
    "# Output results\n",
    "for level in elo_levels:\n",
    "    wins = wins_by_level[level]\n",
    "    total = games_by_level[level]\n",
    "    percentage = wins / total if total > 0 else 0\n",
    "    print(f\"Number of games won by {level}: {wins}\")\n",
    "    print(f\"Percentage of games won by {level}: {percentage:.2%}\\n\")\n"
   ]
  },
  {
   "cell_type": "code",
   "execution_count": 33,
   "id": "ccd560de",
   "metadata": {},
   "outputs": [
    {
     "name": "stdout",
     "output_type": "stream",
     "text": [
      "Win Rate Matrix (Player vs Opponent):\n",
      "\n",
      "Player \\ Opponent beginner      intermediate  club_player   advanced      expert        \n",
      "----------------------------------------------------------------------------------------\n",
      "beginner            46.7%         50.0%         33.3%          0.0%          0.0%       \n",
      "intermediate        50.0%         49.1%         47.1%          0.0%          0.0%       \n",
      "club_player         66.7%         52.9%         49.1%         44.4%          0.0%       \n",
      "advanced             0.0%        100.0%         55.6%         46.6%         50.0%       \n",
      "expert               0.0%        100.0%          0.0%         41.7%         42.9%       \n"
     ]
    }
   ],
   "source": [
    "elo_levels = [\"beginner\", \"intermediate\", \"club_player\", \"advanced\", \"expert\"]\n",
    "\n",
    "# Initialize counters: player_vs_opponent[player_level][opponent_level] = {\"wins\": 0, \"total\": 0}\n",
    "player_vs_opponent = {\n",
    "    pl: {op: {\"wins\": 0, \"total\": 0} for op in elo_levels}\n",
    "    for pl in elo_levels\n",
    "}\n",
    "\n",
    "for game in data:\n",
    "    result = game.get(\"result\")\n",
    "    white_level = game.get(\"elo_level_white\")\n",
    "    black_level = game.get(\"elo_level_black\")\n",
    "\n",
    "    # White player perspective\n",
    "    if white_level in elo_levels and black_level in elo_levels:\n",
    "        player_vs_opponent[white_level][black_level][\"total\"] += 1\n",
    "        if result == \"1-0\":\n",
    "            player_vs_opponent[white_level][black_level][\"wins\"] += 1\n",
    "\n",
    "    # Black player perspective\n",
    "    if black_level in elo_levels and white_level in elo_levels:\n",
    "        player_vs_opponent[black_level][white_level][\"total\"] += 1\n",
    "        if result == \"0-1\":\n",
    "            player_vs_opponent[black_level][white_level][\"wins\"] += 1\n",
    "\n",
    "# Print matrix\n",
    "print(\"Win Rate Matrix (Player vs Opponent):\\n\")\n",
    "header = \"Player \\\\ Opponent\".ljust(18) + \"\".join(f\"{op.ljust(14)}\" for op in elo_levels)\n",
    "print(header)\n",
    "print(\"-\" * len(header))\n",
    "for pl in elo_levels:\n",
    "    row = pl.ljust(18)\n",
    "    for op in elo_levels:\n",
    "        matchup = player_vs_opponent[pl][op]\n",
    "        total = matchup[\"total\"]\n",
    "        wins = matchup[\"wins\"]\n",
    "        win_rate = (wins / total * 100) if total > 0 else 0\n",
    "        row += f\"{win_rate:6.1f}%\".ljust(14)\n",
    "    print(row)\n"
   ]
  },
  {
   "cell_type": "code",
   "execution_count": 13,
   "id": "7ede5d46",
   "metadata": {},
   "outputs": [
    {
     "name": "stdout",
     "output_type": "stream",
     "text": [
      "White player win percentage by avg move_quality:\n",
      "  -50 < mq <= 0: 50.00% (1 wins / 2 games)\n",
      "\n",
      "Black player win percentage by avg move_quality:\n",
      "  -50 < mq <= 0: 50.00% (1 wins / 2 games)\n"
     ]
    }
   ],
   "source": [
    "import numpy as np\n",
    "from collections import defaultdict\n",
    "\n",
    "# Define move quality bins (low to high)\n",
    "bins = [-10000, -200, -150, -100, -50, 0, 10000]\n",
    "\n",
    "# Stats for bin ranges\n",
    "bin_stats_white = defaultdict(lambda: {\"wins\": 0, \"total\": 0})\n",
    "bin_stats_black = defaultdict(lambda: {\"wins\": 0, \"total\": 0})\n",
    "\n",
    "for game in data:\n",
    "    moves = game.get(\"moves\", [])\n",
    "    result = game.get(\"result\", \"*\")\n",
    "\n",
    "    # Separate white and black move_qualities\n",
    "    white_qualities = [m[\"move_quality\"] for m in moves if m[\"player\"] == \"white\" and m.get(\"move_quality\") is not None]\n",
    "    black_qualities = [m[\"move_quality\"] for m in moves if m[\"player\"] == \"black\" and m.get(\"move_quality\") is not None]\n",
    "\n",
    "    if not white_qualities or not black_qualities:\n",
    "        continue\n",
    "\n",
    "    avg_white = np.mean(white_qualities)\n",
    "    avg_black = np.mean(black_qualities)\n",
    "\n",
    "    # Bin index\n",
    "    w_bin = np.digitize(avg_white, bins) - 1\n",
    "    b_bin = np.digitize(avg_black, bins) - 1\n",
    "    w_range = f\"{bins[w_bin]} < mq <= {bins[w_bin + 1]}\"\n",
    "    b_range = f\"{bins[b_bin]} < mq <= {bins[b_bin + 1]}\"\n",
    "\n",
    "    # Update stats\n",
    "    bin_stats_white[w_range][\"total\"] += 1\n",
    "    bin_stats_black[b_range][\"total\"] += 1\n",
    "\n",
    "    if result == \"1-0\":\n",
    "        bin_stats_white[w_range][\"wins\"] += 1\n",
    "    elif result == \"0-1\":\n",
    "        bin_stats_black[b_range][\"wins\"] += 1\n",
    "\n",
    "# Print white results\n",
    "print(\"White player win percentage by avg move_quality:\")\n",
    "for rng, stats in sorted(bin_stats_white.items()):\n",
    "    pct = stats[\"wins\"] / stats[\"total\"] if stats[\"total\"] > 0 else 0\n",
    "    print(f\"  {rng}: {pct:.2%} ({stats['wins']} wins / {stats['total']} games)\")\n",
    "\n",
    "# Print black results\n",
    "print(\"\\nBlack player win percentage by avg move_quality:\")\n",
    "for rng, stats in sorted(bin_stats_black.items()):\n",
    "    pct = stats[\"wins\"] / stats[\"total\"] if stats[\"total\"] > 0 else 0\n",
    "    print(f\"  {rng}: {pct:.2%} ({stats['wins']} wins / {stats['total']} games)\")\n"
   ]
  },
  {
   "cell_type": "code",
   "execution_count": null,
   "id": "616ed76c",
   "metadata": {},
   "outputs": [
    {
     "name": "stdout",
     "output_type": "stream",
     "text": [
      "Sequence: e4 e5 Nf3 Nc6 Bc4\n",
      "Count: 11\n",
      "\n",
      "Sequence: e4 d5 exd5 Qxd5 Nc3\n",
      "Count: 8\n",
      "\n",
      "Sequence: \n",
      "Count: 8\n",
      "\n",
      "Sequence: e4 e5 Nf3 Nc6 d4\n",
      "Count: 6\n",
      "\n",
      "Sequence: d4 Nf6 c4 g6 Nc3\n",
      "Count: 4\n",
      "\n",
      "Sequence: e4 e5 Nf3 d6 Bc4\n",
      "Count: 4\n",
      "\n",
      "Sequence: e4 e5 Nf3 Nc6 Bb5\n",
      "Count: 4\n",
      "\n",
      "Sequence: e4 e6 Nf3 d5 exd5\n",
      "Count: 4\n",
      "\n",
      "Sequence: e4 e5 Nf3 Nc6 Nc3\n",
      "Count: 4\n",
      "\n",
      "Sequence: e4 e5 Nc3 Nc6 Bc4\n",
      "Count: 3\n",
      "\n",
      "Sequence: e4 e5 Nf3 Nf6 Bc4\n",
      "Count: 3\n",
      "\n",
      "Sequence: e4 c5 Nf3 d6 d4\n",
      "Count: 3\n",
      "\n",
      "Sequence: e4 e6 d4 d5 Nc3\n",
      "Count: 3\n",
      "\n",
      "Sequence: e4 c6 d4 d5 e5\n",
      "Count: 3\n",
      "\n",
      "Sequence: d4 d5 Bf4 Nf6 e3\n",
      "Count: 3\n",
      "\n",
      "Sequence: d4 d5 c4 e6 Nc3\n",
      "Count: 3\n",
      "\n"
     ]
    }
   ],
   "source": [
    "from collections import Counter\n",
    "\n",
    "sequence_counts = Counter()\n",
    "\n",
    "for game in data:\n",
    "    seq = game.get(\"human_opening_sequence\", \"\")\n",
    "    moves = seq.strip().split()\n",
    "    #first_5_moves = moves[:10]  # first 5 full moves = 10 plies\n",
    "    first_5_moves = moves[:5]  # first 5 half moves\n",
    "    seq_key = \" \".join(first_5_moves)\n",
    "    sequence_counts[seq_key] += 1\n",
    "\n",
    "# Print sequences and how many times they appeared\n",
    "for seq, count in sequence_counts.most_common():\n",
    "    if count > 2:\n",
    "        print(f\"Sequence: {seq}\\nCount: {count}\\n\")\n"
   ]
  }
 ],
 "metadata": {
  "kernelspec": {
   "display_name": "Python 3",
   "language": "python",
   "name": "python3"
  },
  "language_info": {
   "codemirror_mode": {
    "name": "ipython",
    "version": 3
   },
   "file_extension": ".py",
   "mimetype": "text/x-python",
   "name": "python",
   "nbconvert_exporter": "python",
   "pygments_lexer": "ipython3",
   "version": "3.12.1"
  }
 },
 "nbformat": 4,
 "nbformat_minor": 5
}
